{
 "cells": [
  {
   "cell_type": "markdown",
   "id": "4e6e817a",
   "metadata": {},
   "source": [
    "## Intro\n",
    "#### Setup of an experiment\n",
    "- This notebook is an adaption of the experiment for RQ1, allowing to vary the number of features used in the datasets and investigating the dependency of dataset dimensions.\n",
    "\n",
    "#### Loading experiments\n",
    "- run chapter 1 to get the data and generate missing values\n",
    "- skip chapter 2 (time consuming calculations)\n",
    "- load outputs saved in output.toml (such as metrics) and reconstructed datasets with:\n",
    "        output = toml.load(\"output.toml\")\n",
    "        with open(os.path.join(\"X_reconstr\", 'X_reconstr.pkl'), 'rb') as f:\n",
    "            X_reconstr = pickle.load(f)\n",
    "- run chapter 3-5"
   ]
  },
  {
   "cell_type": "code",
   "execution_count": 1,
   "id": "4bf513c5",
   "metadata": {},
   "outputs": [
    {
     "data": {
      "application/javascript": [
       "IPython.notebook.kernel.execute('nb_name = \"' + IPython.notebook.notebook_name + '\"')\n"
      ],
      "text/plain": [
       "<IPython.core.display.Javascript object>"
      ]
     },
     "metadata": {},
     "output_type": "display_data"
    }
   ],
   "source": [
    "%%javascript\n",
    "IPython.notebook.kernel.execute('nb_name = \"' + IPython.notebook.notebook_name + '\"')"
   ]
  },
  {
   "cell_type": "code",
   "execution_count": 2,
   "id": "93a78625",
   "metadata": {},
   "outputs": [],
   "source": [
    "import pandas as pd\n",
    "import numpy as np\n",
    "import matplotlib.pyplot as plt\n",
    "import torch\n",
    "import random\n",
    "import math\n",
    "import scipy\n",
    "import astropy.stats\n",
    "import pickle\n",
    "import sys\n",
    "import os\n",
    "sys.path.append(os.getcwd() + \"/pytorch_tabnet/\")\n",
    "\n",
    "from sklearn.cluster import DBSCAN"
   ]
  },
  {
   "cell_type": "code",
   "execution_count": 3,
   "id": "77224c9e",
   "metadata": {},
   "outputs": [],
   "source": [
    "import toml\n",
    "output_rmse = toml.load(\"output_rmse.toml\")\n",
    "output_mae = toml.load(\"output_mae.toml\")\n",
    "output_cml = toml.load(\"output_cml.toml\")\n",
    "output_kl = toml.load(\"output_kl.toml\")\n",
    "output_cl = toml.load(\"output_cl.toml\")\n",
    "\n",
    "with open(os.path.join(\"X_reconstr_rmse\", 'X_reconstr.pkl'), 'rb') as f:\n",
    "  X_reconstr_rmse = pickle.load(f)\n",
    "with open(os.path.join(\"X_reconstr_mae\", 'X_reconstr.pkl'), 'rb') as f:\n",
    "  X_reconstr_mae = pickle.load(f)\n",
    "with open(os.path.join(\"X_reconstr_cml\", 'X_reconstr.pkl'), 'rb') as f:\n",
    "  X_reconstr_cml = pickle.load(f)\n",
    "with open(os.path.join(\"X_reconstr_kl\", 'X_reconstr.pkl'), 'rb') as f:\n",
    "  X_reconstr_kl = pickle.load(f)\n",
    "with open(os.path.join(\"X_reconstr_cl\", 'X_reconstr.pkl'), 'rb') as f:\n",
    "  X_reconstr_cl = pickle.load(f)"
   ]
  },
  {
   "cell_type": "markdown",
   "id": "b4886e95",
   "metadata": {},
   "source": [
    "## 0. Experiment Setup"
   ]
  },
  {
   "cell_type": "code",
   "execution_count": 4,
   "id": "3638a4de",
   "metadata": {},
   "outputs": [],
   "source": [
    "# should an output folder be created to save the experiment data?\n",
    "save_output = False\n",
    "save_models = False"
   ]
  },
  {
   "cell_type": "code",
   "execution_count": 5,
   "id": "6fd9f91a",
   "metadata": {
    "scrolled": true
   },
   "outputs": [],
   "source": [
    "# read config file\n",
    "import toml\n",
    "config = toml.load(\"config.toml\")\n",
    "\n",
    "# determine experimental parameter from config\n",
    "experiment_variable_values = \"\"\n",
    "experiment_dict_key = \"\"\n",
    "for category_name, category_values in config.items():\n",
    "    if config[\"general\"][\"experiment_variable\"] in category_values:\n",
    "        experiment_variable_values = category_values[config[\"general\"][\"experiment_variable\"]]\n",
    "        experiment_dict_key = category_name\n",
    "        \n",
    "# rnd seed to support reproducable results\n",
    "def set_seeds(seed):\n",
    "    np.random.seed(seed)\n",
    "    random.seed(seed)\n",
    "    torch.manual_seed(seed)\n",
    "    os.environ['PYTHONHASHSEED'] = str(seed)\n",
    "    torch.cuda.manual_seed(seed)\n",
    "    torch.cuda.manual_seed_all(seed)\n",
    "    torch.backends.cudnn.deterministic = True\n",
    "    torch.backends.cudnn.benchmark = False\n",
    "    torch.use_deterministic_algorithms(True)\n",
    "\n",
    "seed_value =  config[\"general\"][\"random_seed\"] if config[\"general\"][\"random_seed\"] else random.randrange(2**32 -1)\n",
    "seed_train_test_split = config[\"general\"][\"seed_train_test_split\"] if config[\"general\"][\"seed_train_test_split\"] else random.sample(range(2**32 -1), config[\"general\"][\"models\"])\n",
    "set_seeds(seed_value)\n",
    "\n",
    "# TabNet hyperparameters\n",
    "experiment_variable = config[\"general\"][\"experiment_variable\"]\n",
    "regressor_param = {\"scheduler_params\" : {\"step_size\": 10},\n",
    "                   \"scheduler_fn\" : torch.optim.lr_scheduler.StepLR,\n",
    "                   \"mask_type\" : 'entmax',\n",
    "                   \"device_name\" : 'cuda', # only working on NVIDIA GPUs\n",
    "                   \"seed\" : seed_value,\n",
    "                   \"verbose\" : 0\n",
    "                  }\n",
    "\n",
    "# create experiment folder structure\n",
    "if save_output or save_models:  \n",
    "    from datetime import datetime\n",
    "    \n",
    "    experiment_name = config[\"general\"][\"experiment_name\"]\n",
    "    experiment_folder = f\"{datetime.now().strftime('%Y_%m_%d %H-%M-%S')} {experiment_name} \" if experiment_name else f\"{datetime.now().strftime('%Y_%m_%d %H-%M-%S')} {config['general']['dataset']}-{config['general']['experiment_variable']}-{config['model_param']['eval_metric'][0]}\"\n",
    "    \n",
    "    experiment_path = os.path.join(\"04_Experiments\", experiment_folder)\n",
    "    os.mkdir(experiment_path)\n",
    "    \n",
    "    plots_path = os.path.join(experiment_path, \"plots\")\n",
    "    os.mkdir(plots_path)\n",
    "    \n",
    "    models_path = os.path.join(experiment_path, \"models\")\n",
    "    os.mkdir(models_path)\n",
    "    \n",
    "    X_reconstr_path = os.path.join(experiment_path, \"X_reconstr\")\n",
    "    os.mkdir(X_reconstr_path)\n",
    "    \n",
    "    # save config file\n",
    "    import shutil\n",
    "    shutil.copy2(\"config.toml\", experiment_path)\n",
    "    config_path = os.path.join(experiment_path, \"config.toml\")\n",
    "    \n",
    "    # save random seeds\n",
    "    if not config[\"general\"][\"random_seed\"]:\n",
    "        config[\"general\"][\"random_seed\"] = seed_value\n",
    "        with open(config_path, \"w\") as f:\n",
    "            toml.dump(config, f)\n",
    "    if not config[\"general\"][\"seed_train_test_split\"]:\n",
    "        config[\"general\"][\"seed_train_test_split\"] = seed_train_test_split\n",
    "        with open(config_path, \"w\") as f:\n",
    "            toml.dump(config, f)       \n",
    "    \n",
    "    # save model hyperparameters\n",
    "    with open(os.path.join(experiment_path, 'config.toml'), 'a') as config_file:\n",
    "        config_file.write(\"\\n#[regressor_param]\\n\")\n",
    "        for key, value in regressor_param.items(): \n",
    "            config_file.write('#%s = %s\\n' % (key, str(value)))\n",
    "    \n",
    "    # create output file\n",
    "    output_path = os.path.join(experiment_path, \"output.toml\")\n",
    "    output_file = open(output_path, \"w\")\n",
    "\n",
    "output = {}"
   ]
  },
  {
   "cell_type": "markdown",
   "id": "955edf3b",
   "metadata": {},
   "source": [
    "## 1. Datasets\n",
    "\n",
    "### 1.0. Choose dataset\n",
    "Get dataset from config."
   ]
  },
  {
   "cell_type": "code",
   "execution_count": 6,
   "id": "0d6d5050",
   "metadata": {},
   "outputs": [],
   "source": [
    "from sklearn.preprocessing import scale, StandardScaler\n",
    "\n",
    "if config[\"general\"][\"dataset\"] == \"wine\":\n",
    "    from sklearn.datasets import load_wine\n",
    "\n",
    "    dataset = load_wine()\n",
    "    feature_names = dataset['feature_names']\n",
    "    X, labels_true = pd.DataFrame(dataset.data, columns=feature_names), dataset.target\n",
    "    X_scaled = pd.DataFrame(StandardScaler().fit_transform(X), columns=dataset['feature_names'])\n",
    "    \n",
    "elif config[\"general\"][\"dataset\"] == \"iris\":\n",
    "    from sklearn.datasets import load_iris\n",
    "    \n",
    "    dataset = load_iris()\n",
    "    feature_names = dataset['feature_names']\n",
    "    X, labels_true = pd.DataFrame(dataset.data, columns=feature_names), dataset.target\n",
    "    X_scaled = pd.DataFrame(StandardScaler().fit_transform(X), columns=dataset['feature_names'])\n",
    "    \n",
    "elif config[\"general\"][\"dataset\"] == \"drybean\":\n",
    "    dataset = pd.read_excel(\"01_Datasets/Dry_Bean_Dataset.xlsx\")\n",
    "    X = dataset.iloc[:,:-1]\n",
    "    feature_names = X.columns\n",
    "    labels_true = np.array(dataset.iloc[:,-1].astype(\"category\").cat.codes)\n",
    "    X_scaled = pd.DataFrame(StandardScaler().fit_transform(X), columns=X.columns)\n",
    "    \n",
    "else:\n",
    "    raise ValueError(f\"The dataset {config['general']['dataset']} is not implemented.\")"
   ]
  },
  {
   "cell_type": "markdown",
   "id": "e3a23a21",
   "metadata": {},
   "source": [
    "#### Determine feature distributions\n",
    "To examine the influence and predictability of outliers, we want to choose a feature of the dataset, that has a distribution including an adequate number of outliers."
   ]
  },
  {
   "cell_type": "code",
   "execution_count": 7,
   "id": "9bca72f7",
   "metadata": {},
   "outputs": [
    {
     "data": {
      "image/png": "[encoded data removed]",
      "text/plain": [
       "<Figure size 864x216 with 4 Axes>"
      ]
     },
     "metadata": {
      "needs_background": "light"
     },
     "output_type": "display_data"
    }
   ],
   "source": [
    "rows = math.ceil(X_scaled.shape[1]/4)\n",
    "X_scaled.hist(layout=(rows,4), figsize=(12,3*rows), density=True)\n",
    "plt.tight_layout()\n",
    "plt.show()"
   ]
  },
  {
   "cell_type": "markdown",
   "id": "441d51d1",
   "metadata": {},
   "source": [
    "#### Examine outlierness\n",
    "Examine the number of outliers in both directions. For the given outlier definition (distance to the mean in standard deviations, e.g. 3 * std) the share of outliers in both direction should be large enough.\n",
    "The outlier definition (x times standard_deviation) is defined in the config."
   ]
  },
  {
   "cell_type": "code",
   "execution_count": 8,
   "id": "642f75bb",
   "metadata": {},
   "outputs": [],
   "source": [
    "def n_outliers(data):\n",
    "    return data[(data < X[experiment_feature].mean() - config[\"outlier_definition\"][\"st_deviations\"] * X[experiment_feature].std()) | (data > X[experiment_feature].mean() + config[\"outlier_definition\"][\"st_deviations\"] * X[experiment_feature].std())].count()"
   ]
  },
  {
   "cell_type": "code",
   "execution_count": 9,
   "id": "4da2fe31",
   "metadata": {},
   "outputs": [],
   "source": [
    "def is_outlier(data):\n",
    "    upper_outlier = data > X[experiment_feature].mean() + config[\"outlier_definition\"][\"st_deviations\"] * X[experiment_feature].std()\n",
    "    lower_outlier = data < X[experiment_feature].mean() - config[\"outlier_definition\"][\"st_deviations\"] * X[experiment_feature].std()\n",
    "    return (upper_outlier | lower_outlier), lower_outlier, upper_outlier"
   ]
  },
  {
   "cell_type": "code",
   "execution_count": 10,
   "id": "2ec4cbe9",
   "metadata": {},
   "outputs": [],
   "source": [
    "X_outliers_up = X.agg(lambda x: x[x > x.mean() + config[\"outlier_definition\"][\"st_deviations\"] * x.std()].count()) / X.shape[0]\n",
    "X_outliers_low = X.agg(lambda x: x[x < x.mean() - config[\"outlier_definition\"][\"st_deviations\"] * x.std()].count()) / X.shape[0]"
   ]
  },
  {
   "cell_type": "markdown",
   "id": "df3ac56d",
   "metadata": {},
   "source": [
    "#### Select feature\n",
    "The selected feature should have at least a certain number of outliers in total and a minimum number of outliers in each direction."
   ]
  },
  {
   "cell_type": "code",
   "execution_count": 11,
   "id": "28ef5d8f",
   "metadata": {},
   "outputs": [
    {
     "name": "stdout",
     "output_type": "stream",
     "text": [
      "experiment feature: sepal width (cm)\n"
     ]
    }
   ],
   "source": [
    "# filter by minimum outliers in each direction\n",
    "X_outliers_up = X_outliers_up[(X_outliers_up > config[\"outlier_definition\"][\"min_outliers_per_direction\"]) & (X_outliers_low > config[\"outlier_definition\"][\"min_outliers_per_direction\"])]\n",
    "X_outliers_low = X_outliers_low[(X_outliers_up > config[\"outlier_definition\"][\"min_outliers_per_direction\"]) & (X_outliers_low > config[\"outlier_definition\"][\"min_outliers_per_direction\"])]\n",
    "\n",
    "# filter by minimum outliers in total\n",
    "X_outliers_total = X_outliers_up + X_outliers_low\n",
    "X_outliers_total = X_outliers_total[X_outliers_total > config[\"outlier_definition\"][\"min_outliers_total\"]]\n",
    "\n",
    "# choose the feature with the most equal number of lower/upper outliers\n",
    "if X_outliers_total.empty:\n",
    "    raise ValueError(\"The given dataset does not have a feature fullfilling the required outlier requirements.\")\n",
    "else:\n",
    "    experiment_feature = abs(X_outliers_up[X_outliers_total.index] - X_outliers_low[X_outliers_total.index]).idxmin()\n",
    "    output[\"experiment_feature\"] = experiment_feature\n",
    "    print(f\"experiment feature: {experiment_feature}\")\n",
    "    # number of outliers for later use in metrics\n",
    "    X_n_outliers = n_outliers(X[experiment_feature])\n",
    "    \n",
    "    # series of outliers\n",
    "    std_orig = X[experiment_feature].std()\n",
    "    mean_orig = X[experiment_feature].mean()\n",
    "    X_outliers = X[experiment_feature][(X[experiment_feature] < mean_orig - config[\"outlier_definition\"][\"st_deviations\"] * std_orig) | (X[experiment_feature] > mean_orig + config[\"outlier_definition\"][\"st_deviations\"] * std_orig)]"
   ]
  },
  {
   "cell_type": "markdown",
   "id": "e2399f7f",
   "metadata": {},
   "source": [
    "### 1.1. Create missing data\n",
    "#### 1.1.1. Create a specified amount of missing values\n",
    "missing values will be generated for the selected feature in 1.0 as well as for randomly chosen amount of features defined in config --> general --> missing_value_features.\n",
    "\n",
    "The data will be sampled until at least a certain amount of outliers are replaced by missing values. This enables us to examine the impact of outliers later on."
   ]
  },
  {
   "cell_type": "code",
   "execution_count": 12,
   "id": "afc92a2c",
   "metadata": {},
   "outputs": [],
   "source": [
    "# create datasets with missing values\n",
    "X_mv = {}\n",
    "X_mv_n_outliers = {}\n",
    "\n",
    "# if the experiment variable is affecting the dataset, we need a dict of the different datasets, else only one dataset named \"data\"\n",
    "variable_hyperparams = not config[\"general\"][\"experiment_variable\"] in [\"missing_percent\", \"missing_outliers\", \"missing_value_features\", \"st_deviations\", \"n_omitted_features\"]\n",
    "X_mv_keys = experiment_variable_values if not variable_hyperparams else [experiment_variable]\n",
    "\n",
    "# for RQ2 (experiment_variable = missing_value_features), we use the same missing values for all experiment_values (this should maybe be done generally for all experiment_variables)\n",
    "sample_seed = random.sample(range(2**32 -1), config[\"general\"][\"runs\"])\n",
    "\n",
    "for experiment_value in X_mv_keys:\n",
    "\n",
    "    if not variable_hyperparams:\n",
    "        config[experiment_dict_key][config[\"general\"][\"experiment_variable\"]] = experiment_value\n",
    "\n",
    "    n_outliers_req = round(config[\"general\"][\"missing_outliers\"] * X_n_outliers)\n",
    "    n_outliers_generated = round(config[\"general\"][\"missing_percent\"] * len(X))\n",
    "    if n_outliers_generated < n_outliers_req:\n",
    "        raise ValueError(\"The ratio of missing values created has to be larger than than the required ratio of outlier-missing-values. Increase 'missing percent' or decrease 'missing_outliers' before proceeding.\")\n",
    "\n",
    "    X_mv[experiment_value] = []\n",
    "    X_mv_n_outliers[str(experiment_value)] = []\n",
    "    \n",
    "    for run in range(config[\"general\"][\"runs\"]):\n",
    "        \n",
    "        # select % of features to use for predictions, defined in config: n_omitted_features (e.g. 10% of randomly selected features)\n",
    "        n_omitted_features = math.floor(config[\"RQ2\"][\"n_omitted_features\"] * (len(X.columns) - 1))\n",
    "        n_used_features = max(1, (len(X.columns) - 1 - n_omitted_features)) # experiment_feature not counted\n",
    "        used_features = list(X.copy().drop(experiment_feature, axis=1).sample(n=n_used_features, axis='columns').columns)\n",
    "        used_features.append(experiment_feature)\n",
    "        \n",
    "        # create missing values in feature column(s) and assure, that at least x% of missing values were outliers\n",
    "        n_mv_features = round(len(used_features)*experiment_value) if experiment_variable == \"missing_value_features\" else round(len(used_features)*config[\"general\"][\"missing_value_features\"]) # if clause useless?\n",
    "        rnd_features = random.sample([n for n in used_features if n != experiment_feature], n_mv_features)\n",
    "        mv_config = {feature:config[\"general\"][\"missing_percent\"] for feature in rnd_features}\n",
    "\n",
    "        if run == 0 or experiment_variable != \"missing_value_features\":\n",
    "            # remove at least n_outliers_req outliers\n",
    "            X_mv[experiment_value].append(X[used_features].copy())\n",
    "            \n",
    "            _, l_outliers, u_outliers = is_outlier(X_mv[experiment_value][run][experiment_feature])\n",
    "            sample_upper_outliers = X_mv[experiment_value][run][experiment_feature][u_outliers].sample(math.floor(n_outliers_req / 2), random_state = sample_seed[run])\n",
    "            sample_lower_outliers = X_mv[experiment_value][run][experiment_feature][l_outliers].sample(math.ceil(n_outliers_req / 2), random_state = sample_seed[run])\n",
    "            sample_rest = X_mv[experiment_value][run][experiment_feature].sample(n_outliers_generated - n_outliers_req, random_state = sample_seed[run])\n",
    "            \n",
    "            X_mv[experiment_value][run].loc[sample_rest.index.union(sample_lower_outliers.index).union(sample_upper_outliers.index),experiment_feature] = np.nan\n",
    "            \n",
    "        else:\n",
    "            # use same experiment_feature mvs for all runs, only vary other missing features\n",
    "            X_mv[experiment_value].append(X_mv[X_mv_keys[0]][0].copy())\n",
    "  \n",
    "        # remove values in other features\n",
    "        for f, mv in mv_config.items():\n",
    "            X_mv[experiment_value][run][f] = X_mv[experiment_value][run][f].mask(np.random.random(len(X)) < mv)\n",
    "\n",
    "        # calculate share of outliers in sample\n",
    "        mvs = X[experiment_feature][X_mv[experiment_value][run][experiment_feature].isna()]\n",
    "        X_mv_n_outliers[str(experiment_value)].append(n_outliers(mvs))"
   ]
  },
  {
   "cell_type": "code",
   "execution_count": 13,
   "id": "21aca2a9",
   "metadata": {},
   "outputs": [
    {
     "data": {
      "image/png": "[encoded data removed]",
      "text/plain": [
       "<Figure size 1800x720 with 2 Axes>"
      ]
     },
     "metadata": {
      "needs_background": "light"
     },
     "output_type": "display_data"
    }
   ],
   "source": [
    "import missingno as msno\n",
    "%matplotlib inline\n",
    "\n",
    "# plot missing values\n",
    "fig = msno.matrix(X_mv[experiment_value][run])\n",
    "plt.title(f\"missing values for {experiment_variable}: {experiment_value} (run {run})\", fontsize=22)\n",
    "plt.show()\n",
    "if save_output:\n",
    "    fig_copy = fig.get_figure()\n",
    "    fig_copy.savefig(os.path.join(plots_path, \"missing_values.png\"), **config[\"plots\"], bbox_inches = 'tight')"
   ]
  },
  {
   "cell_type": "markdown",
   "id": "ea4510ae",
   "metadata": {},
   "source": [
    "#### 1.1.2. Save outlier numbers to output"
   ]
  },
  {
   "cell_type": "code",
   "execution_count": 14,
   "id": "0a7c8f76",
   "metadata": {},
   "outputs": [],
   "source": [
    "output[\"n_outliers\"] = {}\n",
    "output[\"n_outliers\"][\"X\"] = X_n_outliers\n",
    "output[\"n_outliers\"][\"X_mv\"] = X_mv_n_outliers"
   ]
  },
  {
   "cell_type": "markdown",
   "id": "92f2c339",
   "metadata": {},
   "source": [
    "#### 1.1.3. Distribution after removing random values"
   ]
  },
  {
   "cell_type": "code",
   "execution_count": 15,
   "id": "128c10dd",
   "metadata": {},
   "outputs": [
    {
     "data": {
      "image/png": "[encoded data removed]",
      "text/plain": [
       "<Figure size 864x576 with 2 Axes>"
      ]
     },
     "metadata": {
      "needs_background": "light"
     },
     "output_type": "display_data"
    }
   ],
   "source": [
    "mv = X.copy()[X_mv[experiment_value][run][experiment_feature].isna()]\n",
    "\n",
    "fig, ax = plt.subplots(figsize=(12,8))\n",
    "X[experiment_feature].plot.hist(ax=ax, alpha=0.5)\n",
    "X_mv[experiment_value][run][experiment_feature].plot.hist(ax=ax, alpha=0.5, color='green')\n",
    "mv[experiment_feature].plot.hist(ax=ax, alpha=0.5, color='red')\n",
    "\n",
    "ax2 = ax.twinx()\n",
    "X[experiment_feature].plot.kde(ax=ax2)\n",
    "X_mv[experiment_value][run][experiment_feature].plot.kde(ax=ax2, color='green')\n",
    "mv[experiment_feature].plot.kde(ax=ax2, color='red')\n",
    "plt.title(f\"Distribution for {experiment_variable}: {experiment_value} (run {run})\")\n",
    "plt.legend(['original data', 'without missing values', 'missing values'])\n",
    "\n",
    "plt.show()"
   ]
  },
  {
   "cell_type": "markdown",
   "id": "12fa865e",
   "metadata": {},
   "source": [
    "#### 1.1.3. Kurtosis\n",
    "If the data is sufficiently close to a normal distribution, the Kurtosis measure could be used to compare the tailedness of the data before and after predictions. This does, however not necessarily apply for the given feature."
   ]
  },
  {
   "cell_type": "code",
   "execution_count": 16,
   "id": "b2fdd7eb",
   "metadata": {},
   "outputs": [
    {
     "data": {
      "text/plain": [
       "KurtosistestResult(statistic=0.5972409956934542, pvalue=0.5503464921578263)"
      ]
     },
     "execution_count": 16,
     "metadata": {},
     "output_type": "execute_result"
    }
   ],
   "source": [
    "scipy.stats.kurtosistest(X_mv[experiment_value][run][X_mv[experiment_value][run][experiment_feature].notna()][experiment_feature])"
   ]
  },
  {
   "cell_type": "markdown",
   "id": "a2954a63",
   "metadata": {},
   "source": [
    "### 1.3. Initial Clustering (without missing values)"
   ]
  },
  {
   "cell_type": "markdown",
   "id": "05f2c24c",
   "metadata": {},
   "source": [
    "#### 1.3.1 DBSCAN (for wine dataset)\n",
    "Generel problem with DBSCAN: curse of dimensionality for datasets with high feature counts.\n",
    "\n",
    "Automatically determine DBSCAN hyperparameters min_samples and eps.\\\n",
    "min_samples results in 26 for the wine dataset (dimensionality 13).\\\n",
    "for eps we choose 2.5 (elbow of the graph)."
   ]
  },
  {
   "cell_type": "code",
   "execution_count": 17,
   "id": "ab6c847f",
   "metadata": {},
   "outputs": [
    {
     "data": {
      "text/plain": [
       "[<matplotlib.lines.Line2D at 0x12e2766a0>]"
      ]
     },
     "execution_count": 17,
     "metadata": {},
     "output_type": "execute_result"
    },
    {
     "data": {
      "image/png": "[encoded data removed]",
      "text/plain": [
       "<Figure size 432x288 with 1 Axes>"
      ]
     },
     "metadata": {
      "needs_background": "light"
     },
     "output_type": "display_data"
    }
   ],
   "source": [
    "from sklearn.neighbors import NearestNeighbors\n",
    "\n",
    "min_samples = 2 * len(X_scaled.columns)\n",
    "\n",
    "neighbors = NearestNeighbors(n_neighbors=min_samples)\n",
    "neighbors_fit = neighbors.fit(X_scaled)\n",
    "distances, indices = neighbors_fit.kneighbors(X_scaled)\n",
    "distances = np.sort(distances, axis=0)\n",
    "distances = distances[:,1]\n",
    "plt.plot(distances)"
   ]
  },
  {
   "cell_type": "markdown",
   "id": "88740cfb",
   "metadata": {},
   "source": [
    "Use the cluster algorithm on dataset without missing values shows, that DBSCAN is not performaing well with 13 dimensional dataset (curse of dimensionality leads to either 1 or 0 clusters)."
   ]
  },
  {
   "cell_type": "code",
   "execution_count": 18,
   "id": "cd9cc691",
   "metadata": {},
   "outputs": [
    {
     "name": "stdout",
     "output_type": "stream",
     "text": [
      "DBSCAN noise: 2.0%\n",
      "DBSCAN clusters: [-1  0  1]\n"
     ]
    }
   ],
   "source": [
    "# run DBSCAN on original data\n",
    "config[\"DBSCAN\"][\"eps\"] = 1\n",
    "config[\"DBSCAN\"][\"min_samples\"] = min_samples\n",
    "\n",
    "if save_output or save_models:\n",
    "    config[experiment_dict_key][config[\"general\"][\"experiment_variable\"]] = experiment_variable_values\n",
    "    with open(config_path, \"w\") as f:\n",
    "        toml.dump(config, f)\n",
    "        \n",
    "dbscan_orig = DBSCAN(**config[\"DBSCAN\"]).fit(X_scaled)\n",
    "labels_orig = dbscan_orig.labels_\n",
    "print(f\"DBSCAN noise: {(sum(abs(labels_orig[labels_orig == -1]))*100) / len(labels_true)}%\")\n",
    "print(f\"DBSCAN clusters: {np.unique(labels_orig)}\")"
   ]
  },
  {
   "cell_type": "markdown",
   "id": "3d50c634",
   "metadata": {},
   "source": [
    "#### 1.3.2 K-Means\n",
    "As an alternative, we use k-means for the initial clustering (k=3). This does clearly work better with a more than 96% correct labeling of data."
   ]
  },
  {
   "cell_type": "code",
   "execution_count": 19,
   "id": "c96fedf5",
   "metadata": {},
   "outputs": [],
   "source": [
    "from sklearn.cluster import KMeans\n",
    "k_mean_orig = KMeans(n_clusters=len(np.unique(labels_true)), random_state=seed_value).fit(X_scaled)\n",
    "labels_orig = k_mean_orig.labels_"
   ]
  },
  {
   "cell_type": "markdown",
   "id": "c865822d",
   "metadata": {},
   "source": [
    "Using munkres/hungarian algorithm to allign the k-means cluster names with the original cluster means.\\\n",
    "Source: https://gist.github.com/siolag161/dc6e42b64e1bde1f263b"
   ]
  },
  {
   "cell_type": "code",
   "execution_count": 20,
   "id": "16064633",
   "metadata": {},
   "outputs": [],
   "source": [
    "from munkres import Munkres\n",
    "from sklearn.metrics import confusion_matrix\n",
    "\n",
    "# use Munkres / Hungarian algorithm to relabel clusters in order to match original label names\n",
    "def make_cost_matrix(c1, c2):\n",
    "    \"\"\"\n",
    "    \"\"\"\n",
    "    uc1 = np.unique(c1)\n",
    "    uc2 = np.unique(c2)\n",
    "    l1 = uc1.size\n",
    "    l2 = uc2.size\n",
    "    #if not (l1 == l2 and np.all(uc1 == uc2)):\n",
    "    #    raise ValueError(f\"Clustering could not detect the correct number of clusters (k={len(uc2)})\")\n",
    "\n",
    "    m = np.ones([l1, l2])\n",
    "    for i in range(l1):\n",
    "        it_i = np.nonzero(c1 == uc1[i])[0]\n",
    "        for j in range(l2):\n",
    "            it_j = np.nonzero(c2 == uc2[j])[0]\n",
    "            m_ij = np.intersect1d(it_j, it_i)\n",
    "            m[i,j] =  -m_ij.size\n",
    "    return m"
   ]
  },
  {
   "cell_type": "code",
   "execution_count": 21,
   "id": "7a0b89eb",
   "metadata": {},
   "outputs": [
    {
     "name": "stdout",
     "output_type": "stream",
     "text": [
      "16.67% mislabeled\n"
     ]
    }
   ],
   "source": [
    "cost_matrix = make_cost_matrix(labels_orig, labels_true)\n",
    "indexes = Munkres().compute(cost_matrix)\n",
    "mapping = [new for (_, new) in indexes]\n",
    "labels_orig_renamed = np.choose(labels_orig, mapping).astype(np.int64)\n",
    "\n",
    "mislabeled = labels_true - labels_orig_renamed\n",
    "mislabeled[mislabeled != 0] = 1\n",
    "mislabeled_orig = sum(mislabeled) / len(mislabeled)\n",
    "print(f\"{round(mislabeled_orig * 100, 2)}% mislabeled\")"
   ]
  },
  {
   "cell_type": "markdown",
   "id": "c67aac87",
   "metadata": {},
   "source": [
    "Get cluster means for loss function input."
   ]
  },
  {
   "cell_type": "code",
   "execution_count": 22,
   "id": "6d73d6a0",
   "metadata": {},
   "outputs": [],
   "source": [
    "# get cluster means (used to calculate the cluster mean loss)\n",
    "complete_data = X.copy()\n",
    "complete_data[\"C\"] = labels_orig\n",
    "cluster_means = complete_data.groupby(\"C\").agg(\"mean\")\n",
    "cluster_means = cluster_means if -1 not in cluster_means.index else cluster_means.drop(-1)"
   ]
  },
  {
   "cell_type": "markdown",
   "id": "96864266",
   "metadata": {},
   "source": [
    "## 2. Filling Strategies\n",
    "Applying different imputation strategies to the incomplete dataset.\n",
    "\n",
    "### 2.1. Define custom-loss\n",
    "The loss function for the model fitting shall be customized to improve cluster perforamnce. The custom loss is divided into 2 separate losses\n",
    "\n",
    "1. **Reconstruction Loss**\\\n",
    "Classic loss function, such as RMSE.\n",
    "2. **Cluster-Mean Loss**\\\n",
    "The distance to the nearest cluster mean shall be minimized.\n",
    "3. **KL Divergence Loss**\\\n",
    "Deviation of original distribution shall be minimized \\\n",
    "(prob distribution based on https://stackoverflow.com/questions/57687458/how-to-calculate-probabilities-using-numpy-histogram-and-then-use-it-for-calcula \\\n",
    "number of bins: D. Freedman & P. Diaconis (1981) “On the histogram as a density estimator: L2 theory”. Probability Theory and Related Fields 57 (4): 453-476)\n",
    "\n",
    "The chosen approach to implement the cluster-mean loss is as follows:\\\n",
    "**Adapt the loss function** to calculate a distance to each cluster. The minimum distance (to the nearest cluster) will be used as a cluster-mean-loss. Minimizing this loss should result in the data point moving closer to the nearest cluster mean.\\\n",
    "Potential Problem: loss functions currently work with y_true (true values) and y_score (predicted values). Calculating the distance would require all features. Calculating only the 1 dimensional distance will result in missing values being put into wrong clusters - depending on the first estimate."
   ]
  },
  {
   "cell_type": "code",
   "execution_count": 23,
   "id": "cb40f41f",
   "metadata": {},
   "outputs": [],
   "source": [
    "# define custom loss function: extend L2-loss by cluster-mean-loss and KL divergence\n",
    "\n",
    "from pytorch_tabnet.metrics import Metric\n",
    "from sklearn.metrics import mean_squared_error\n",
    "\n",
    "class custom_loss(Metric):\n",
    "\n",
    "    def __init__(self):\n",
    "        self._name = \"custom_loss\"\n",
    "        self._maximize = False\n",
    "\n",
    "    def __call__(self, y_true, y_score, cluster_means, y_name, x_val, y_val, cl_weights = [0.5, 1, 0.0001]):\n",
    "        # reconstruction loss\n",
    "        rmse = np.sqrt(mean_squared_error(y_true, y_score))\n",
    "        \n",
    "        # cluster mean loss\n",
    "        cml = 0 if cl_weights[2] == 0 else self.cluster_mean_loss(cluster_means, y_score, y_name, x_val, y_val)\n",
    "        \n",
    "        # KL divergence loss\n",
    "        # - range of values\n",
    "        min_val = min(min(y_true[:,0]), min(y_score[:,0]))\n",
    "        max_val = max(max(y_true[:,0]), max(y_score[:,0]))\n",
    "        # - prob. density function\n",
    "        distr_pred = scipy.stats.gaussian_kde(y_score[:,0]).evaluate(np.linspace(min_val,max_val,100)) + sys.float_info.min\n",
    "        distr_true = scipy.stats.gaussian_kde(y_true[:,0]).evaluate(np.linspace(min_val,max_val,100)) + sys.float_info.min\n",
    "        # - calc. KL divergence on normalized pdf\n",
    "        KLdl = torch.nn.functional.kl_div((torch.tensor(distr_pred/sum(distr_pred))).log(), torch.tensor(distr_true/sum(distr_true)), log_target=False, reduction='sum').item()\n",
    "        \n",
    "        # total loss\n",
    "        custom_loss = cl_weights[0] * rmse + cl_weights[1] * KLdl + cl_weights[2] * cml\n",
    "        return custom_loss\n",
    "    \n",
    "    # calculate sum of distances to the closest cluster mean\n",
    "    def cluster_mean_loss(self, cluster_means, y_score, y_name, x_val, y_val):\n",
    "        \n",
    "        # reorder cluster_means to match x_val columns (predicted feature is last column)\n",
    "        cols = cluster_means.columns.tolist()\n",
    "        feature_col = X.columns.get_loc(y_name)\n",
    "        cols = cols[:feature_col] + cols[feature_col+1:] + [y_name]\n",
    "        \n",
    "        # x values extended by predicted values\n",
    "        x_extended = pd.DataFrame(np.hstack((x_val, y_score)), columns=cols)\n",
    "\n",
    "\n",
    "        # calculate distances to each cluster and select the closest one\n",
    "        dist = []\n",
    "        for cluster in range(cluster_means.shape[0]):\n",
    "            dist.append(np.linalg.norm((x_extended - cluster_means.iloc[cluster]), axis=1))\n",
    "            \n",
    "        dist = pd.DataFrame(dist).T\n",
    "        min_dist = dist.assign(min_dist=lambda d: d.min(1))[\"min_dist\"]\n",
    "        \n",
    "        return sum(min_dist)"
   ]
  },
  {
   "cell_type": "markdown",
   "id": "cb5da4a8",
   "metadata": {},
   "source": [
    "### 2.2. Fill missing values (TabNet)\n",
    "\n",
    "In general, we want to train a fixed (see config) number of models and make predictions on all datasets. The final prediction value will be the median value of all trained models. The median is used here, as it has shown, that most models will have a similar prediction performance, but some \"bad\" model outliers with significantly worse performance can occur.\n",
    "\n",
    "**Approach 1:**\\\n",
    "For each feature that contains missing values, use all rows with complete other features as train set and predict missing values of the feature.\\\n",
    "&rarr; Problem: lots of models, especially for high-dimensional datasets. \n",
    "Also problem, if more than one feature is missing values. &rarr; see Approach 2\n",
    "\n",
    "**Approach 2:**\\\n",
    "Mask missing values as -1 (or some other value) and fit a model predicting each feature just like in approach 1.\\\n",
    "This way the amount of required models can be reduced and the model can learn correlations from the presence of missing values. However we cannot expect an improvement from learning correlations when the missing data is MCAR, as \"missing values (MCAR) are interpreted as a random reduction of the dataset, which provide no further information for assigning incomplete feature\n",
    "vectors to clusters.\" (H. Timm, et al., \"Different approaches to fuzzy clustering of incomplete datasets\")\\\n",
    "&rarr; one model for each feature containing missing values.\\\n",
    "Possible adaption: use predicted values to predict subsequent values (instead of using -1)\n",
    "\n",
    "**Approach 3:**\n",
    "To further reduce the number of trained models and in order to focus on features with an appropriate number of outliers: only predict and examine one feature (see chosen feature above) and leave the others with their masked values.\\\n",
    "&rarr; Problem: missing value mask of other features impacts the subsequent clustering. Additionally, due to the MCAR missing value generation for the used datasets, there is no useful information in the missing values of other features. Thus, the model cannot learn anything from the masked values. It does however make sense to implement it this way for further research of real incomplete datasets.\\\n",
    "As we are interested in the predictive performance of the experiment feature, a solution to the subsequent clustering problem is, to reconstruct the other features with their original values (i.e. the predictions are based on the incomplete dataset, but the clustering will be based on the predicted feature plus the original other features)."
   ]
  },
  {
   "cell_type": "code",
   "execution_count": null,
   "id": "6744b4b3",
   "metadata": {},
   "outputs": [
    {
     "name": "stdout",
     "output_type": "stream",
     "text": [
      "0 / 50 --------------------------------------------------\n",
      "\n",
      "Early stopping occurred at epoch 115 with best_epoch = 65 and best_val_0_mae = 0.58556\n",
      "Best weights from best epoch are automatically used!\n",
      "Stop training because you reached max_epochs = 250 with best_epoch = 249 and best_val_0_mae = 0.31871\n",
      "Best weights from best epoch are automatically used!\n",
      "\n",
      "Early stopping occurred at epoch 174 with best_epoch = 124 and best_val_0_mae = 0.41273\n",
      "Best weights from best epoch are automatically used!\n",
      "Stop training because you reached max_epochs = 250 with best_epoch = 249 and best_val_0_mae = 0.33476\n",
      "Best weights from best epoch are automatically used!\n",
      "\n",
      "Early stopping occurred at epoch 128 with best_epoch = 78 and best_val_0_mae = 1.96949\n",
      "Best weights from best epoch are automatically used!\n",
      "1 / 50 --------------------------------------------------\n",
      "Stop training because you reached max_epochs = 250 with best_epoch = 249 and best_val_0_mae = 0.51721\n",
      "Best weights from best epoch are automatically used!\n",
      "Stop training because you reached max_epochs = 250 with best_epoch = 231 and best_val_0_mae = 0.45034\n",
      "Best weights from best epoch are automatically used!\n",
      "\n",
      "Early stopping occurred at epoch 54 with best_epoch = 4 and best_val_0_mae = 1.90552\n",
      "Best weights from best epoch are automatically used!\n",
      "\n",
      "Early stopping occurred at epoch 167 with best_epoch = 117 and best_val_0_mae = 0.37317\n",
      "Best weights from best epoch are automatically used!\n",
      "Stop training because you reached max_epochs = 250 with best_epoch = 249 and best_val_0_mae = 0.72487\n",
      "Best weights from best epoch are automatically used!\n",
      "2 / 50 --------------------------------------------------\n",
      "Stop training because you reached max_epochs = 250 with best_epoch = 249 and best_val_0_mae = 0.33488\n",
      "Best weights from best epoch are automatically used!\n",
      "\n",
      "Early stopping occurred at epoch 160 with best_epoch = 110 and best_val_0_mae = 0.32673\n",
      "Best weights from best epoch are automatically used!\n",
      "\n",
      "Early stopping occurred at epoch 50 with best_epoch = 0 and best_val_0_mae = 1.42538\n",
      "Best weights from best epoch are automatically used!\n",
      "Stop training because you reached max_epochs = 250 with best_epoch = 245 and best_val_0_mae = 0.43709\n",
      "Best weights from best epoch are automatically used!\n",
      "\n",
      "Early stopping occurred at epoch 188 with best_epoch = 138 and best_val_0_mae = 0.35192\n",
      "Best weights from best epoch are automatically used!\n",
      "3 / 50 --------------------------------------------------\n",
      "Stop training because you reached max_epochs = 250 with best_epoch = 242 and best_val_0_mae = 0.31327\n",
      "Best weights from best epoch are automatically used!\n",
      "Stop training because you reached max_epochs = 250 with best_epoch = 236 and best_val_0_mae = 0.44741\n",
      "Best weights from best epoch are automatically used!\n",
      "\n",
      "Early stopping occurred at epoch 53 with best_epoch = 3 and best_val_0_mae = 4.09103\n",
      "Best weights from best epoch are automatically used!\n",
      "Stop training because you reached max_epochs = 250 with best_epoch = 240 and best_val_0_mae = 0.47881\n",
      "Best weights from best epoch are automatically used!\n",
      "Stop training because you reached max_epochs = 250 with best_epoch = 249 and best_val_0_mae = 0.40081\n",
      "Best weights from best epoch are automatically used!\n",
      "4 / 50 --------------------------------------------------\n",
      "Stop training because you reached max_epochs = 250 with best_epoch = 249 and best_val_0_mae = 0.3082\n",
      "Best weights from best epoch are automatically used!\n",
      "\n",
      "Early stopping occurred at epoch 81 with best_epoch = 31 and best_val_0_mae = 1.12083\n",
      "Best weights from best epoch are automatically used!\n",
      "Stop training because you reached max_epochs = 250 with best_epoch = 249 and best_val_0_mae = 0.43771\n",
      "Best weights from best epoch are automatically used!\n",
      "Stop training because you reached max_epochs = 250 with best_epoch = 218 and best_val_0_mae = 0.31285\n",
      "Best weights from best epoch are automatically used!\n",
      "Stop training because you reached max_epochs = 250 with best_epoch = 228 and best_val_0_mae = 0.283\n",
      "Best weights from best epoch are automatically used!\n",
      "5 / 50 --------------------------------------------------\n",
      "\n",
      "Early stopping occurred at epoch 172 with best_epoch = 122 and best_val_0_mae = 0.5423\n",
      "Best weights from best epoch are automatically used!\n",
      "\n",
      "Early stopping occurred at epoch 58 with best_epoch = 8 and best_val_0_mae = 1.20355\n",
      "Best weights from best epoch are automatically used!\n",
      "Stop training because you reached max_epochs = 250 with best_epoch = 249 and best_val_0_mae = 0.37395\n",
      "Best weights from best epoch are automatically used!\n",
      "Stop training because you reached max_epochs = 250 with best_epoch = 249 and best_val_0_mae = 0.51613\n",
      "Best weights from best epoch are automatically used!\n",
      "\n",
      "Early stopping occurred at epoch 65 with best_epoch = 15 and best_val_0_mae = 0.64724\n",
      "Best weights from best epoch are automatically used!\n",
      "6 / 50 --------------------------------------------------\n",
      "\n",
      "Early stopping occurred at epoch 65 with best_epoch = 15 and best_val_0_mae = 1.57689\n",
      "Best weights from best epoch are automatically used!\n",
      "\n",
      "Early stopping occurred at epoch 81 with best_epoch = 31 and best_val_0_mae = 1.18964\n",
      "Best weights from best epoch are automatically used!\n",
      "\n",
      "Early stopping occurred at epoch 158 with best_epoch = 108 and best_val_0_mae = 0.95005\n",
      "Best weights from best epoch are automatically used!\n",
      "\n",
      "Early stopping occurred at epoch 59 with best_epoch = 9 and best_val_0_mae = 0.95886\n",
      "Best weights from best epoch are automatically used!\n",
      "\n",
      "Early stopping occurred at epoch 89 with best_epoch = 39 and best_val_0_mae = 1.22447\n",
      "Best weights from best epoch are automatically used!\n",
      "7 / 50 --------------------------------------------------\n",
      "Stop training because you reached max_epochs = 250 with best_epoch = 239 and best_val_0_mae = 0.30991\n",
      "Best weights from best epoch are automatically used!\n",
      "Stop training because you reached max_epochs = 250 with best_epoch = 249 and best_val_0_mae = 0.38914\n",
      "Best weights from best epoch are automatically used!\n",
      "\n",
      "Early stopping occurred at epoch 240 with best_epoch = 190 and best_val_0_mae = 0.5209\n",
      "Best weights from best epoch are automatically used!\n",
      "Stop training because you reached max_epochs = 250 with best_epoch = 249 and best_val_0_mae = 0.39669\n",
      "Best weights from best epoch are automatically used!\n",
      "Stop training because you reached max_epochs = 250 with best_epoch = 249 and best_val_0_mae = 0.48225\n",
      "Best weights from best epoch are automatically used!\n",
      "8 / 50 --------------------------------------------------\n",
      "Stop training because you reached max_epochs = 250 with best_epoch = 249 and best_val_0_mae = 0.42882\n",
      "Best weights from best epoch are automatically used!\n",
      "Stop training because you reached max_epochs = 250 with best_epoch = 242 and best_val_0_mae = 0.37175\n",
      "Best weights from best epoch are automatically used!\n",
      "Stop training because you reached max_epochs = 250 with best_epoch = 249 and best_val_0_mae = 0.45718\n",
      "Best weights from best epoch are automatically used!\n",
      "\n",
      "Early stopping occurred at epoch 178 with best_epoch = 128 and best_val_0_mae = 0.5047\n",
      "Best weights from best epoch are automatically used!\n",
      "\n",
      "Early stopping occurred at epoch 173 with best_epoch = 123 and best_val_0_mae = 0.85401\n",
      "Best weights from best epoch are automatically used!\n",
      "9 / 50 --------------------------------------------------\n",
      "Stop training because you reached max_epochs = 250 with best_epoch = 249 and best_val_0_mae = 0.26066\n",
      "Best weights from best epoch are automatically used!\n",
      "\n",
      "Early stopping occurred at epoch 52 with best_epoch = 2 and best_val_0_mae = 5.81381\n",
      "Best weights from best epoch are automatically used!\n",
      "\n",
      "Early stopping occurred at epoch 102 with best_epoch = 52 and best_val_0_mae = 1.65814\n",
      "Best weights from best epoch are automatically used!\n",
      "\n",
      "Early stopping occurred at epoch 171 with best_epoch = 121 and best_val_0_mae = 0.70871\n",
      "Best weights from best epoch are automatically used!\n",
      "\n",
      "Early stopping occurred at epoch 164 with best_epoch = 114 and best_val_0_mae = 0.97586\n",
      "Best weights from best epoch are automatically used!\n",
      "10 / 50 --------------------------------------------------\n",
      "\n",
      "Early stopping occurred at epoch 115 with best_epoch = 65 and best_val_0_mae = 0.58556\n",
      "Best weights from best epoch are automatically used!\n",
      "Stop training because you reached max_epochs = 250 with best_epoch = 249 and best_val_0_mae = 0.31871\n",
      "Best weights from best epoch are automatically used!\n"
     ]
    },
    {
     "name": "stdout",
     "output_type": "stream",
     "text": [
      "\n",
      "Early stopping occurred at epoch 174 with best_epoch = 124 and best_val_0_mae = 0.41273\n",
      "Best weights from best epoch are automatically used!\n",
      "Stop training because you reached max_epochs = 250 with best_epoch = 249 and best_val_0_mae = 0.33476\n",
      "Best weights from best epoch are automatically used!\n",
      "\n",
      "Early stopping occurred at epoch 128 with best_epoch = 78 and best_val_0_mae = 1.96949\n",
      "Best weights from best epoch are automatically used!\n",
      "11 / 50 --------------------------------------------------\n",
      "Stop training because you reached max_epochs = 250 with best_epoch = 217 and best_val_0_mae = 0.41026\n",
      "Best weights from best epoch are automatically used!\n",
      "Stop training because you reached max_epochs = 250 with best_epoch = 249 and best_val_0_mae = 0.46379\n",
      "Best weights from best epoch are automatically used!\n",
      "Stop training because you reached max_epochs = 250 with best_epoch = 248 and best_val_0_mae = 0.38265\n",
      "Best weights from best epoch are automatically used!\n",
      "\n",
      "Early stopping occurred at epoch 184 with best_epoch = 134 and best_val_0_mae = 0.48887\n",
      "Best weights from best epoch are automatically used!\n",
      "Stop training because you reached max_epochs = 250 with best_epoch = 249 and best_val_0_mae = 0.54545\n",
      "Best weights from best epoch are automatically used!\n",
      "12 / 50 --------------------------------------------------\n",
      "Stop training because you reached max_epochs = 250 with best_epoch = 249 and best_val_0_mae = 0.40497\n",
      "Best weights from best epoch are automatically used!\n",
      "Stop training because you reached max_epochs = 250 with best_epoch = 237 and best_val_0_mae = 0.42859\n",
      "Best weights from best epoch are automatically used!\n",
      "Stop training because you reached max_epochs = 250 with best_epoch = 235 and best_val_0_mae = 0.60606\n",
      "Best weights from best epoch are automatically used!\n",
      "Stop training because you reached max_epochs = 250 with best_epoch = 249 and best_val_0_mae = 0.40252\n",
      "Best weights from best epoch are automatically used!\n",
      "\n",
      "Early stopping occurred at epoch 80 with best_epoch = 30 and best_val_0_mae = 0.95941\n",
      "Best weights from best epoch are automatically used!\n",
      "13 / 50 --------------------------------------------------\n",
      "Stop training because you reached max_epochs = 250 with best_epoch = 242 and best_val_0_mae = 0.31327\n",
      "Best weights from best epoch are automatically used!\n"
     ]
    }
   ],
   "source": [
    "import time\n",
    "\n",
    "from pytorch_tabnet.tab_model import TabNetRegressor\n",
    "from sklearn.model_selection import train_test_split\n",
    "\n",
    "X_reconstr = {}\n",
    "X_reconstr[\"TabNet\"] = {}\n",
    "output[\"costs\"] = {}\n",
    "output[\"runtimes\"] = {}\n",
    "output[\"predictions\"] = {}\n",
    "all_models = {}\n",
    "\n",
    "for i, experiment_value in enumerate(experiment_variable_values):\n",
    "    \n",
    "    X_reconstr[\"TabNet\"][str(experiment_value)] = []\n",
    "    output[\"costs\"][str(experiment_value)] = {}\n",
    "    output[\"runtimes\"][str(experiment_value)] = {}\n",
    "    output[\"predictions\"][str(experiment_value)] = {}\n",
    "    all_models[experiment_value] = []\n",
    "    \n",
    "    config[experiment_dict_key][config[\"general\"][\"experiment_variable\"]] = experiment_value\n",
    "    ds_name = experiment_variable if variable_hyperparams else experiment_value\n",
    "    \n",
    "    for run in range(config[\"general\"][\"runs\"]):\n",
    "        \n",
    "        print(f\"{i*config['general']['runs'] + run} / {len(experiment_variable_values) * config['general']['runs']} --------------------------------------------------\")\n",
    "        \n",
    "        output[\"costs\"][str(experiment_value)][f\"run_{run}\"] = {}\n",
    "        output[\"runtimes\"][str(experiment_value)][f\"run_{run}\"] = {}\n",
    "        output[\"predictions\"][str(experiment_value)][f\"run_{run}\"] = {}   \n",
    "        \n",
    "        time_start = time.time()\n",
    "        \n",
    "        X_reconstr[\"TabNet\"][str(experiment_value)].append(X.copy())\n",
    "        X_reconstr[\"TabNet\"][str(experiment_value)][run][experiment_feature] = X_mv[X_mv_keys[0]][run][experiment_feature] if variable_hyperparams else X_mv[experiment_value][run][experiment_feature]\n",
    "\n",
    "        # mask non-experiment_feature missing values as defined in config (missing_value_mask)\n",
    "        predictive_features = X_mv[ds_name][run].copy().drop(experiment_feature, axis=1).columns\n",
    "        X_mv_masked = X_mv[ds_name][run].copy()\n",
    "        X_mv_masked[predictive_features] = X_mv_masked[predictive_features].fillna(config[\"general\"][\"missing_value_mask\"])\n",
    "\n",
    "        # separate complete rows as train data\n",
    "        # separate column with missing values as target\n",
    "        test_data = X_mv_masked[X_mv_masked[experiment_feature].isna()].drop(experiment_feature, axis=1).to_numpy()\n",
    "        train_data = X_mv_masked[X_mv_masked[experiment_feature].notna()]\n",
    "        train_features = train_data.drop(columns=experiment_feature).to_numpy()\n",
    "        train_target = train_data[experiment_feature].to_numpy().reshape(-1,1)\n",
    "        \n",
    "        models = []\n",
    "        for model in range(config[\"general\"][\"models\"]):\n",
    "\n",
    "            x_train, x_val, y_train, y_val = train_test_split(train_features, train_target, train_size=config[\"training\"][\"train_val_split\"], random_state = seed_train_test_split[model])\n",
    "                \n",
    "            # create & train model\n",
    "            tabnet_model = TabNetRegressor(**regressor_param)\n",
    "            if config[\"model_param\"][\"eval_metric\"] == [\"custom_loss\"]:\n",
    "                tabnet_model.fit(\n",
    "                    x_train, y_train,\n",
    "                    eval_set=[(x_val, y_val)],\n",
    "                    **config[\"model_param\"],\n",
    "                    cluster_means=cluster_means,\n",
    "                    y_name=experiment_feature,\n",
    "                    x_val=x_val,\n",
    "                    y_val=y_val,\n",
    "                    cl_weights=config[\"training\"][\"cl_weights\"]\n",
    "                )\n",
    "            else:\n",
    "                tabnet_model.fit(\n",
    "                    x_train, y_train,\n",
    "                    eval_set=[(x_val, y_val)],\n",
    "                    **config[\"model_param\"]\n",
    "                )\n",
    "                \n",
    "            models.append(tabnet_model)\n",
    "        \n",
    "        # chose model based on minimum costs\n",
    "        model_costs = [m.best_cost for m in models]\n",
    "        best_model = models[model_costs.index(min(model_costs))]\n",
    "        all_models[experiment_value].append(best_model)\n",
    "        \n",
    "        # save costs\n",
    "        output[\"costs\"][str(experiment_value)][f\"run_{run}\"] = float(best_model.best_cost)\n",
    "\n",
    "        # save predictions\n",
    "        predictions = [x[0] for x in best_model.predict(test_data)]\n",
    "        output[\"predictions\"][str(experiment_value)][f\"run_{run}\"] = predictions\n",
    "\n",
    "        # fill missing values with model predictions\n",
    "        X_reconstr[\"TabNet\"][str(experiment_value)][run].loc[X_reconstr[\"TabNet\"][str(experiment_value)][run][experiment_feature].isna(), experiment_feature] = predictions\n",
    "\n",
    "        # save models\n",
    "        if save_models:\n",
    "            torch.save(best_model, os.path.join(models_path, f\"Model_{config['general']['experiment_variable']}{experiment_value}_run_{run}.pt\"))            \n",
    "\n",
    "        #track runtime\n",
    "        time_end = time.time()\n",
    "        output[\"runtimes\"][str(experiment_value)][f\"run_{run}\"] = time_end - time_start"
   ]
  },
  {
   "cell_type": "markdown",
   "id": "bbfcc940",
   "metadata": {},
   "source": [
    "### 2.2. Fill missing values (Heuristic Imputation - mean)\n",
    "Replacing missing values by a heuristic (such as the mean) of their respective feature."
   ]
  },
  {
   "cell_type": "code",
   "execution_count": null,
   "id": "bbbddbd2",
   "metadata": {},
   "outputs": [],
   "source": [
    "# update X_reconstr. when loading older experiments (\"Heuristic\" and \"Multivariate\" were renamed)\n",
    "_ = X_reconstr.pop(\"Heuristic\") if \"Heuristic\" in X_reconstr else None\n",
    "_ = X_reconstr.pop(\"Multivariate\") if \"Multivariate\" in X_reconstr else None"
   ]
  },
  {
   "cell_type": "code",
   "execution_count": 25,
   "id": "5689ce08",
   "metadata": {},
   "outputs": [
    {
     "ename": "NameError",
     "evalue": "name 'X_reconstr' is not defined",
     "output_type": "error",
     "traceback": [
      "\u001b[0;31m---------------------------------------------------------------------------\u001b[0m",
      "\u001b[0;31mNameError\u001b[0m                                 Traceback (most recent call last)",
      "Input \u001b[0;32mIn [25]\u001b[0m, in \u001b[0;36m<cell line: 3>\u001b[0;34m()\u001b[0m\n\u001b[1;32m      1\u001b[0m \u001b[38;5;28;01mfrom\u001b[39;00m \u001b[38;5;21;01msklearn\u001b[39;00m\u001b[38;5;21;01m.\u001b[39;00m\u001b[38;5;21;01mimpute\u001b[39;00m \u001b[38;5;28;01mimport\u001b[39;00m SimpleImputer\n\u001b[0;32m----> 3\u001b[0m \u001b[43mX_reconstr\u001b[49m[\u001b[38;5;124m\"\u001b[39m\u001b[38;5;124mMean_substitution\u001b[39m\u001b[38;5;124m\"\u001b[39m] \u001b[38;5;241m=\u001b[39m {}\n\u001b[1;32m      5\u001b[0m \u001b[38;5;28;01mfor\u001b[39;00m experiment_value \u001b[38;5;129;01min\u001b[39;00m X_mv_keys:\n\u001b[1;32m      6\u001b[0m     X_reconstr[\u001b[38;5;124m\"\u001b[39m\u001b[38;5;124mMean_substitution\u001b[39m\u001b[38;5;124m\"\u001b[39m][experiment_value] \u001b[38;5;241m=\u001b[39m []\n",
      "\u001b[0;31mNameError\u001b[0m: name 'X_reconstr' is not defined"
     ]
    }
   ],
   "source": [
    "from sklearn.impute import SimpleImputer\n",
    "\n",
    "X_reconstr[\"Mean_substitution\"] = {}\n",
    "\n",
    "for experiment_value in X_mv_keys:\n",
    "    X_reconstr[\"Mean_substitution\"][experiment_value] = []\n",
    "    for run in range(config[\"general\"][\"runs\"]):\n",
    "        X_temp = X.copy()\n",
    "        X_temp[experiment_feature] = X_mv[experiment_value][run][experiment_feature]\n",
    "        X_reconstr[\"Mean_substitution\"][experiment_value].append(pd.DataFrame(SimpleImputer(missing_values=np.nan, strategy='mean').fit_transform(X_temp), columns=feature_names))"
   ]
  },
  {
   "cell_type": "markdown",
   "id": "cc940061",
   "metadata": {},
   "source": [
    "### 2.3. Fill missing values (Regression Imputation)"
   ]
  },
  {
   "cell_type": "code",
   "execution_count": null,
   "id": "59b1f945",
   "metadata": {},
   "outputs": [],
   "source": [
    "from sklearn.experimental import enable_iterative_imputer\n",
    "from sklearn.impute import IterativeImputer\n",
    "\n",
    "X_reconstr[\"Regression\"] = {}\n",
    "for experiment_value in X_mv_keys:\n",
    "    X_reconstr[\"Regression\"][experiment_value] = []\n",
    "    for run in range(config[\"general\"][\"runs\"]):\n",
    "        X_temp = X.copy()\n",
    "        X_temp[experiment_feature] = X_mv[experiment_value][run][experiment_feature]\n",
    "        X_reconstr[\"Regression\"][experiment_value].append(pd.DataFrame(IterativeImputer(max_iter=10, random_state=seed_value).fit_transform(X_temp), columns=feature_names))"
   ]
  },
  {
   "cell_type": "markdown",
   "id": "879428e7",
   "metadata": {},
   "source": [
    "Save reconstructed datasets"
   ]
  },
  {
   "cell_type": "code",
   "execution_count": null,
   "id": "c07862ff",
   "metadata": {},
   "outputs": [],
   "source": [
    "if save_output:\n",
    "    with open(os.path.join(X_reconstr_path, 'x_reconstr.pkl'), 'wb') as f:\n",
    "        pickle.dump(X_reconstr, f)"
   ]
  },
  {
   "cell_type": "markdown",
   "id": "b6c7f704",
   "metadata": {},
   "source": [
    "## 3. Reconstruct Dataset\n",
    "choose best TabNet model based model loss."
   ]
  },
  {
   "cell_type": "code",
   "execution_count": null,
   "id": "44685a32",
   "metadata": {},
   "outputs": [],
   "source": [
    "best_runs = [min(values.values()) for run, values in output[\"costs\"].items()]\n",
    "best_runs_index = [list(values.values()).index(min(values.values())) for run, values in output[\"costs\"].items()]\n",
    "    \n",
    "best_experiment_value_index = best_runs.index(min(best_runs))\n",
    "best_experiment_value = experiment_variable_values[best_experiment_value_index]\n",
    "best_run = best_runs_index[best_experiment_value_index]\n",
    "\n",
    "print(f\"Best model: run {best_run} for {experiment_variable} {best_experiment_value}\")\n",
    "\n",
    "X_best = X_reconstr[\"TabNet\"][str(best_experiment_value)][best_run]"
   ]
  },
  {
   "cell_type": "markdown",
   "id": "1d8dc042",
   "metadata": {},
   "source": [
    "## 4. Clustering\n",
    "Apply k-means (k=3) on reconstructed data. In order to make the clusters comparable, the k-Means labels will be replaced using Munkres / Hungarian algorithm as explained here:\\\n",
    "https://gist.github.com/siolag161/dc6e42b64e1bde1f263b \\\n",
    "https://github.com/benchaplin/hungarian-algorithm\n",
    "\n",
    "### 4.1. TabNet"
   ]
  },
  {
   "cell_type": "code",
   "execution_count": 26,
   "id": "de4d859a",
   "metadata": {},
   "outputs": [],
   "source": [
    "labels_reconstr_tabnet = {}\n",
    "losses = ['rmse', 'mae', 'cml', 'kl', 'cl']\n",
    "\n",
    "for loss in losses:\n",
    "    labels_reconstr_tabnet[loss] = []\n",
    "    X_reconstr = eval(f\"X_reconstr_{loss}\")\n",
    "    \n",
    "    for i, experiment_value in enumerate(experiment_variable_values):\n",
    "        \n",
    "        labels_reconstr_tabnet[loss].append([])\n",
    "\n",
    "        for run in range(config[\"general\"][\"runs\"]):\n",
    "            X_reconstr_scaled = pd.DataFrame(StandardScaler().fit_transform(X_reconstr[\"TabNet\"][str(experiment_value)][run]))\n",
    "            k_mean_reconstr = KMeans(n_clusters=len(np.unique(labels_true))).fit(X_reconstr_scaled)\n",
    "\n",
    "            cost_matrix = make_cost_matrix(k_mean_reconstr.labels_, labels_true)\n",
    "            indexes = Munkres().compute(cost_matrix)\n",
    "            mapping = [new for (_, new) in indexes]\n",
    "\n",
    "            labels_reconstr_tabnet[loss][i].append(np.choose(k_mean_reconstr.labels_,mapping).astype(np.int64))"
   ]
  },
  {
   "cell_type": "markdown",
   "id": "e9aaf4c8",
   "metadata": {},
   "source": [
    "### 4.2. Mean Substitution"
   ]
  },
  {
   "cell_type": "code",
   "execution_count": 27,
   "id": "e051e6b0",
   "metadata": {},
   "outputs": [],
   "source": [
    "labels_reconstr_mean_sub = []\n",
    "\n",
    "for i, experiment_value in enumerate(X_mv_keys):\n",
    "\n",
    "    labels_reconstr_mean_sub.append([])\n",
    "    \n",
    "    for run in range(config[\"general\"][\"runs\"]):\n",
    "        X_reconstr_scaled = pd.DataFrame(StandardScaler().fit_transform(X_reconstr[\"Mean_substitution\"][experiment_value][run]))\n",
    "        k_mean_reconstr = KMeans(n_clusters=len(np.unique(labels_true))).fit(X_reconstr_scaled)\n",
    "\n",
    "        cost_matrix = make_cost_matrix(k_mean_reconstr.labels_, labels_true)\n",
    "        indexes = Munkres().compute(cost_matrix)\n",
    "        mapping = [new for (_, new) in indexes]\n",
    "\n",
    "        labels_reconstr_mean_sub[i].append(np.choose(k_mean_reconstr.labels_,mapping).astype(np.int64))"
   ]
  },
  {
   "cell_type": "markdown",
   "id": "a58cd9be",
   "metadata": {},
   "source": [
    "### 4.3. Regression Imputation"
   ]
  },
  {
   "cell_type": "code",
   "execution_count": 28,
   "id": "2fae1519",
   "metadata": {},
   "outputs": [],
   "source": [
    "labels_reconstr_regression = []\n",
    "\n",
    "for i, experiment_value in enumerate(X_mv_keys):\n",
    "\n",
    "    labels_reconstr_regression.append([])\n",
    "    \n",
    "    for run in range(config[\"general\"][\"runs\"]):\n",
    "        X_reconstr_scaled = pd.DataFrame(StandardScaler().fit_transform(X_reconstr[\"Regression\"][experiment_value][run]))\n",
    "        k_mean_reconstr = KMeans(n_clusters=len(np.unique(labels_true))).fit(X_reconstr_scaled)\n",
    "\n",
    "        cost_matrix = make_cost_matrix(k_mean_reconstr.labels_, labels_true)\n",
    "        indexes = Munkres().compute(cost_matrix)\n",
    "        mapping = [new for (_, new) in indexes]\n",
    "\n",
    "        labels_reconstr_regression[i].append(np.choose(k_mean_reconstr.labels_,mapping).astype(np.int64))"
   ]
  },
  {
   "cell_type": "markdown",
   "id": "60c79be7",
   "metadata": {},
   "source": [
    "## 5. Cluster Performance\n",
    "Performance metrics to measure distribution preservance and cluster performance\n",
    "### 5.1 Feature Distributions\n",
    "Quality / Performance of distribution preservance\n",
    "#### 5.1.1 Distr. Plot based on best model's predictions\n",
    "Plot distribution (changes) using the lowest cost TabNet model."
   ]
  },
  {
   "cell_type": "code",
   "execution_count": 29,
   "id": "02ca7c5f",
   "metadata": {},
   "outputs": [
    {
     "ename": "NameError",
     "evalue": "name 'X_best' is not defined",
     "output_type": "error",
     "traceback": [
      "\u001b[0;31m---------------------------------------------------------------------------\u001b[0m",
      "\u001b[0;31mNameError\u001b[0m                                 Traceback (most recent call last)",
      "Input \u001b[0;32mIn [29]\u001b[0m, in \u001b[0;36m<cell line: 3>\u001b[0;34m()\u001b[0m\n\u001b[1;32m      1\u001b[0m \u001b[38;5;66;03m# get max values to determine common scale\u001b[39;00m\n\u001b[1;32m      2\u001b[0m y1, _, _ \u001b[38;5;241m=\u001b[39m plt\u001b[38;5;241m.\u001b[39mhist(X[experiment_feature])\n\u001b[0;32m----> 3\u001b[0m y2, _, _ \u001b[38;5;241m=\u001b[39m plt\u001b[38;5;241m.\u001b[39mhist(\u001b[43mX_best\u001b[49m[experiment_feature])\n\u001b[1;32m      5\u001b[0m ds_name \u001b[38;5;241m=\u001b[39m experiment_variable \u001b[38;5;28;01mif\u001b[39;00m variable_hyperparams \u001b[38;5;28;01melse\u001b[39;00m best_experiment_value\n\u001b[1;32m      7\u001b[0m mv \u001b[38;5;241m=\u001b[39m X\u001b[38;5;241m.\u001b[39mcopy()[X_mv[ds_name][best_run][experiment_feature]\u001b[38;5;241m.\u001b[39misna()]\n",
      "\u001b[0;31mNameError\u001b[0m: name 'X_best' is not defined"
     ]
    },
    {
     "data": {
      "image/png": "[encoded data removed]",
      "text/plain": [
       "<Figure size 432x288 with 1 Axes>"
      ]
     },
     "metadata": {
      "needs_background": "light"
     },
     "output_type": "display_data"
    }
   ],
   "source": [
    "# get max values to determine common scale\n",
    "y1, _, _ = plt.hist(X[experiment_feature])\n",
    "y2, _, _ = plt.hist(X_best[experiment_feature])\n",
    "\n",
    "ds_name = experiment_variable if variable_hyperparams else best_experiment_value\n",
    "\n",
    "mv = X.copy()[X_mv[ds_name][best_run][experiment_feature].isna()]\n",
    "y3, _, _ = plt.hist(mv[experiment_feature])\n",
    "\n",
    "data_regression = X_reconstr[\"Regression\"][ds_name][best_run][experiment_feature]\n",
    "y4, _, _ = plt.hist(data_regression)\n",
    "\n",
    "data_mean_sub = X_reconstr[\"Mean_substitution\"][ds_name][best_run][experiment_feature]\n",
    "y5, _, _ = plt.hist(data_mean_sub)\n",
    "\n",
    "y_max = max([y1.max(), y2.max(), y3.max(), y4.max(), y5.max()]) * 1.5\n",
    "x_max = max(X[experiment_feature].max(), X_best[experiment_feature].max(), data_regression.max(), data_mean_sub.max()) * 1.2\n",
    "x_min = min(X[experiment_feature].min(), X_best[experiment_feature].min(), data_regression.min(), data_mean_sub.min()) * 0.8\n",
    "\n",
    "fontsize = 12\n",
    "\n",
    "plt.close()"
   ]
  },
  {
   "cell_type": "code",
   "execution_count": null,
   "id": "7c944ddd",
   "metadata": {},
   "outputs": [],
   "source": [
    "fig, axs = plt.subplots(1,3, figsize=(18,8))\n",
    "# Frequencies\n",
    "\n",
    "X[experiment_feature].plot.hist(ax=axs[0], alpha=0.6, color='gray', label='original distribution')\n",
    "X_best[experiment_feature].plot.hist(ax=axs[0], alpha=0.4, color='m', label='lowest cost TabNet imputation')\n",
    "mv[experiment_feature].plot.hist(ax=axs[0], alpha=1, color='r', label='removed values')\n",
    "axs[0].set_title(f\"TabNet ({config['model_param']['eval_metric'][0]}) Imputation\", fontsize=fontsize)\n",
    "axs[0].set_ylim([0, y_max])\n",
    "\n",
    "X[experiment_feature].plot.hist(ax=axs[1], alpha=0.6, color='gray')\n",
    "data_regression.plot.hist(ax=axs[1], alpha=0.4, color='b', label='Regression imputation')\n",
    "mv[experiment_feature].plot.hist(ax=axs[1], alpha=1, color='r')\n",
    "axs[1].get_yaxis().set_visible(False)\n",
    "axs[1].set_title(\"Regression Imputation\",fontsize=fontsize)\n",
    "axs[1].set_ylim([0, y_max])\n",
    "\n",
    "X[experiment_feature].plot.hist(ax=axs[2], alpha=0.6, color='gray')\n",
    "data_mean_sub.plot.hist(ax=axs[2], alpha=0.4, color='g', label='Mean substitution')\n",
    "mv[experiment_feature].plot.hist(ax=axs[2], alpha=1, color='r')\n",
    "axs[2].get_yaxis().set_visible(False)\n",
    "axs[2].set_title(\"Mean Substitution\",fontsize=fontsize)\n",
    "axs[2].set_ylim([0, y_max])\n",
    "\n",
    "# Densities\n",
    "\n",
    "ax1 = axs[0].twinx()\n",
    "X[experiment_feature].plot.kde(ax=ax1, color='k', linewidth=2.5)\n",
    "X_best[experiment_feature].plot.kde(ax=ax1, color='m', linewidth=2.5)\n",
    "ax1.get_yaxis().set_visible(False)\n",
    "ax1.set_xlim([x_min, x_max])\n",
    "_, ymax1 = ax1.get_ylim()\n",
    "#mv[experiment_feature].plot.kde(ax=ax2, color='red')\n",
    "\n",
    "ax2 = axs[1].twinx()\n",
    "X[experiment_feature].plot.kde(ax=ax2, color='k', linewidth=2.5)\n",
    "data_regression.plot.kde(ax=ax2, color='b', linewidth=2.5)\n",
    "ax2.get_yaxis().set_visible(False)\n",
    "ax2.set_xlim([x_min, x_max])\n",
    "_, ymax2 = ax2.get_ylim()\n",
    "\n",
    "ax3 = axs[2].twinx()\n",
    "X[experiment_feature].plot.kde(ax=ax3, color='k', linewidth=2.5)\n",
    "data_mean_sub.plot.kde(ax=ax3, color='g', linewidth=2.5)\n",
    "ax3.set_xlim([x_min, x_max])\n",
    "_, ymax3 = ax3.get_ylim()\n",
    "ymax = max([ymax1, ymax2, ymax3])\n",
    "\n",
    "ax1.set_ylim([0, ymax])\n",
    "ax2.set_ylim([0, ymax])\n",
    "ax3.set_ylim([0, ymax])\n",
    "\n",
    "plt.suptitle(f\"Lowest cost reconstructed distribution\\n({config['general']['experiment_variable']} = {best_experiment_value})\",fontsize=20)\n",
    "\n",
    "if save_output:\n",
    "    plt.savefig(os.path.join(plots_path, \"5_distributions.png\"), **config[\"plots\"])\n",
    "\n",
    "lines_labels = [fig.axes[0].get_legend_handles_labels(), ([fig.axes[1].get_legend_handles_labels()[0][1]], [fig.axes[1].get_legend_handles_labels()[1][1]]), ([fig.axes[2].get_legend_handles_labels()[0][1]], [fig.axes[2].get_legend_handles_labels()[1][1]])]\n",
    "lines, labels = [sum(lol, []) for lol in zip(*lines_labels)]\n",
    "fig.legend(lines, labels, loc='upper center', bbox_to_anchor=(0.5, -0.05), shadow=True, ncol=10, fontsize=fontsize)\n",
    "plt.tight_layout()  \n",
    "plt.show()"
   ]
  },
  {
   "cell_type": "markdown",
   "id": "ee835545",
   "metadata": {},
   "source": [
    "## 5.1.2 KL Divergence\n",
    "Calculate the KL divergence using the normalized (sum=1) probability density function as input."
   ]
  },
  {
   "cell_type": "code",
   "execution_count": 30,
   "id": "5b7e819a",
   "metadata": {},
   "outputs": [],
   "source": [
    "# KL Divergence\n",
    "def kl_divergence(d_pred, d_true):\n",
    "    min_val = min(min(d_pred), min(d_true))\n",
    "    max_val = max(max(d_pred), max(d_true))\n",
    "    \n",
    "    distr_pred = scipy.stats.gaussian_kde(d_pred).evaluate(np.linspace(min_val,max_val,100)) + sys.float_info.min\n",
    "    distr_true = scipy.stats.gaussian_kde(d_true).evaluate(np.linspace(min_val,max_val,100)) + sys.float_info.min\n",
    "\n",
    "    return torch.nn.functional.kl_div(torch.tensor(distr_pred/sum(distr_pred)).log(), torch.tensor(distr_true/sum(distr_true)), log_target=False, reduction='sum').item()"
   ]
  },
  {
   "cell_type": "markdown",
   "id": "9493dda5",
   "metadata": {},
   "source": [
    "Save KL divergence to output."
   ]
  },
  {
   "cell_type": "code",
   "execution_count": 31,
   "id": "ed7c99e5",
   "metadata": {},
   "outputs": [],
   "source": [
    "losses = ['rmse', 'mae', 'cml', 'kl', 'cl']\n",
    "kl_divs = {}\n",
    "\n",
    "for loss in losses:\n",
    "    X_reconstr = eval(f\"X_reconstr_{loss}\")\n",
    "    kl_divs[loss] = {}\n",
    "    kl_divs[loss][\"Mean_substitution\"] = {}\n",
    "    kl_divs[loss][\"Regression\"] = {}\n",
    "    kl_divs[loss][\"TabNet\"] = {}\n",
    "\n",
    "    for experiment_value in X_mv_keys:    \n",
    "        kl_divs[loss][\"Mean_substitution\"][str(experiment_value)] = {}\n",
    "        kl_divs[loss][\"Regression\"][str(experiment_value)] = {}\n",
    "\n",
    "        for run in range(config[\"general\"][\"runs\"]):\n",
    "            kl_divs[loss][\"Mean_substitution\"][str(experiment_value)][f\"run_{run}\"] = kl_divergence(X_reconstr[\"Mean_substitution\"][experiment_value][run][experiment_feature], X[experiment_feature])\n",
    "            kl_divs[loss][\"Regression\"][str(experiment_value)][f\"run_{run}\"] = kl_divergence(X_reconstr[\"Regression\"][experiment_value][run][experiment_feature], X[experiment_feature])\n",
    "\n",
    "\n",
    "\n",
    "    for i, experiment_value in enumerate(experiment_variable_values):    \n",
    "        kl_divs[loss][\"TabNet\"][str(experiment_value)] = {}\n",
    "\n",
    "        for run in range(config[\"general\"][\"runs\"]):\n",
    "            kl_divs[loss][\"TabNet\"][str(experiment_value)][f\"run_{run}\"] = kl_divergence(X_reconstr[\"TabNet\"][str(experiment_value)][run][experiment_feature], X[experiment_feature])"
   ]
  },
  {
   "cell_type": "markdown",
   "id": "c96039f6",
   "metadata": {},
   "source": [
    "Create KL divergence plot."
   ]
  },
  {
   "cell_type": "code",
   "execution_count": 33,
   "id": "cfbc4cb7",
   "metadata": {
    "scrolled": false
   },
   "outputs": [
    {
     "data": {
      "image/png": "[encoded data removed]",
      "text/plain": [
       "<Figure size 576x576 with 1 Axes>"
      ]
     },
     "metadata": {
      "needs_background": "light"
     },
     "output_type": "display_data"
    }
   ],
   "source": [
    "# plot\n",
    "data = {}\n",
    "for loss in losses:\n",
    "    data[loss] = {}\n",
    "    data[loss][\"Mean_substitution\"] = {k: list(v.values()) for k,v in kl_divs[loss][\"Mean_substitution\"].items()}\n",
    "    data[loss][\"Regression\"] = {k: list(v.values()) for k,v in kl_divs[loss][\"Regression\"].items()}\n",
    "    data[loss][\"TabNet\"] = {k: list(v.values()) for k,v in kl_divs[loss][\"TabNet\"].items()}\n",
    "\n",
    "fig, ax = plt.subplots(figsize = (8,8))\n",
    "\n",
    "if variable_hyperparams:\n",
    "    plt.axhline(y=[np.median(x) for x in data['rmse'][\"Mean_substitution\"].values()], color='g', linestyle='-', linewidth=2.5)\n",
    "    plt.axhline(y=[np.median(x) for x in data['rmse'][\"Regression\"].values()], color='b', linestyle='--', linewidth=2.5)\n",
    "else:\n",
    "    ax.errorbar(x = list(data['rmse'][\"Mean_substitution\"].keys()), y = [np.median(x) for x in data['rmse'][\"Mean_substitution\"].values()], linestyle='-', color = 'g', linewidth=2.5, fmt='o', capsize=10)\n",
    "    ax.errorbar(x = list(data['rmse'][\"Regression\"].keys()), y = [np.median(x) for x in data['rmse'][\"Regression\"].values()],linestyle='--',  ecolor='b', color = 'b', linewidth=2.5, fmt='o', capsize=10)\n",
    "\n",
    "ax.errorbar(x = list(data['rmse'][\"TabNet\"].keys()), y = [np.median(x) for x in data['rmse'][\"TabNet\"].values()], linestyle='-', ecolor='m', color = 'm', linewidth=1.5, capsize=10)\n",
    "ax.errorbar(x = list(data['mae'][\"TabNet\"].keys()), y = [np.median(x) for x in data['mae'][\"TabNet\"].values()], linestyle='--', ecolor='m', color = 'm', linewidth=1.5, capsize=10)\n",
    "ax.errorbar(x = list(data['cml'][\"TabNet\"].keys()), y = [np.median(x) for x in data['cml'][\"TabNet\"].values()], linestyle='-.', ecolor='m', color = 'm', linewidth=1.5, capsize=10)\n",
    "ax.errorbar(x = list(data['kl'][\"TabNet\"].keys()), y = [np.median(x) for x in data['kl'][\"TabNet\"].values()], linestyle=':', ecolor='m', color = 'm', linewidth=1.5, capsize=10)\n",
    "ax.errorbar(x = list(data['cl'][\"TabNet\"].keys()), y = [np.median(x) for x in data['cl'][\"TabNet\"].values()], linestyle='-', ecolor='c', color = 'red', linewidth=2, capsize=10)\n",
    "\n",
    "\n",
    "\n",
    "\n",
    "plt.xlabel(f\"{config['general']['experiment_variable']}\")\n",
    "plt.ylabel(f\"D({experiment_feature}_pred || {experiment_feature}_true)\")\n",
    "plt.title(\"median KL Divergence\")\n",
    "plt.legend(['Mean_substitution', 'Regression', 'TabNet_RMSE', 'TabNet_MAE', 'TabNet_CML', 'TabNet_DL', 'TabNet_CL'],fontsize=14, loc=(0.05, 0.65))\n",
    "\n",
    "plt.tight_layout() \n",
    "\n",
    "if save_output:\n",
    "    plt.savefig(os.path.join(plots_path, \"5_kl_divergence.png\"), **config[\"plots\"])\n",
    "    plt.show()"
   ]
  },
  {
   "cell_type": "markdown",
   "id": "094228e6",
   "metadata": {},
   "source": [
    "#### 5.1.2 Share of correctly predicted outliers\n",
    "To examine the quality of the outlier predictions, we take the prediction values of the (original) outliers and check, if they would be outliers in the **original** distribution."
   ]
  },
  {
   "cell_type": "code",
   "execution_count": 34,
   "id": "c26bd187",
   "metadata": {},
   "outputs": [],
   "source": [
    "X_mv_outliers = {}\n",
    "n_outliers = {}\n",
    "\n",
    "for loss in losses:\n",
    "    X_reconstr = eval(f\"X_reconstr_{loss}\")\n",
    "    n_outliers[loss] = {}\n",
    "    n_outliers[loss][\"Mean_substitution\"] = {}\n",
    "    n_outliers[loss][\"Regression\"] = {}\n",
    "    n_outliers[loss][\"TabNet\"] = {}\n",
    "    \n",
    "\n",
    "    for experiment_value in X_mv_keys:\n",
    "        X_mv_outliers[experiment_value] = []\n",
    "        n_outliers[loss][\"Mean_substitution\"][str(experiment_value)] = {}\n",
    "        n_outliers[loss][\"Regression\"][str(experiment_value)] = {}\n",
    "\n",
    "        for run in range(config[\"general\"][\"runs\"]):\n",
    "\n",
    "            # indices of removed outliers (missing values)\n",
    "            X_mv_outliers[experiment_value].append(X_mv[experiment_value][run][experiment_feature][X_mv[experiment_value][run][experiment_feature].isna()].index.intersection(X_outliers.index))\n",
    "\n",
    "            # check if the predicted values are outsiders in the original distribution\n",
    "            x = X_reconstr[\"Mean_substitution\"][experiment_value][run][experiment_feature].iloc[X_mv_outliers[experiment_value][run]]\n",
    "            x_outliers, _, _ = is_outlier(x)\n",
    "            n_outliers[loss][\"Mean_substitution\"][str(experiment_value)][f\"run_{run}\"] = x_outliers.sum()\n",
    "\n",
    "            x = X_reconstr[\"Regression\"][experiment_value][run][experiment_feature].iloc[X_mv_outliers[experiment_value][run]]\n",
    "            x_outliers, _, _ = is_outlier(x)\n",
    "            n_outliers[loss][\"Regression\"][str(experiment_value)][f\"run_{run}\"] = x_outliers.sum()\n",
    "\n",
    "\n",
    "    for i, experiment_value in enumerate(experiment_variable_values):\n",
    "        n_outliers[loss][\"TabNet\"][str(experiment_value)] = {}\n",
    "\n",
    "        for run in range(config[\"general\"][\"runs\"]):\n",
    "\n",
    "            x = X_reconstr[\"TabNet\"][str(experiment_value)][run][experiment_feature].iloc[X_mv_outliers[experiment_variable if variable_hyperparams else experiment_value][run]]\n",
    "            x_outliers, _, _ = is_outlier(x)\n",
    "            n_outliers[loss][\"TabNet\"][str(experiment_value)][f\"run_{run}\"] =  x_outliers.sum()"
   ]
  },
  {
   "cell_type": "markdown",
   "id": "af30eac5",
   "metadata": {},
   "source": [
    "Create plot of outlier prediction quality."
   ]
  },
  {
   "cell_type": "code",
   "execution_count": 40,
   "id": "4b5f4f5b",
   "metadata": {},
   "outputs": [
    {
     "data": {
      "image/png": "[encoded data removed]",
      "text/plain": [
       "<Figure size 576x576 with 1 Axes>"
      ]
     },
     "metadata": {
      "needs_background": "light"
     },
     "output_type": "display_data"
    }
   ],
   "source": [
    "# share of outliers\n",
    "data = {}\n",
    "for loss in losses:\n",
    "    data[loss] = {}\n",
    "    data[loss][\"Mean_substitution\"] = {k: [value / X_mv_n_outliers[k][i] for i, value in enumerate(v.values())] for k,v in n_outliers[loss][\"Mean_substitution\"].items()}\n",
    "    data[loss][\"Regression\"] = {k: [value / X_mv_n_outliers[k][i] for i, value in enumerate(v.values())] for k,v in n_outliers[loss][\"Regression\"].items()}\n",
    "    data[loss][\"TabNet\"] = {k: [value / X_mv_n_outliers[experiment_variable if variable_hyperparams else k][i] for i, value in enumerate(v.values())] for k,v in n_outliers[loss][\"TabNet\"].items()}\n",
    "\n",
    "fig, ax = plt.subplots(figsize = (8,8))\n",
    "\n",
    "plt.xlabel(config[\"general\"][\"experiment_variable\"])\n",
    "plt.ylabel(experiment_feature)\n",
    "\n",
    "if variable_hyperparams:\n",
    "    plt.axhline(y=[np.median(x) for x in data[loss][\"Mean_substitution\"].values()], color='g', linestyle='-', linewidth=2.5)\n",
    "    plt.axhline(y=[np.median(x) for x in data[loss][\"Regression\"].values()], color='b', linestyle='--', linewidth=2.5)\n",
    "else:\n",
    "    ax.errorbar(x = list(data[loss][\"Mean_substitution\"].keys()), y = [np.median(x) for x in data[loss][\"Mean_substitution\"].values()], linestyle='-', color = 'g', linewidth=2.5, fmt='o', capsize=10)\n",
    "    ax.errorbar(x = list(data[loss][\"Regression\"].keys()), y = [np.median(x) for x in data[loss][\"Regression\"].values()],linestyle='--', color = 'b', linewidth=2.5, fmt='o', capsize=10)\n",
    "\n",
    "ax.errorbar(x = list(data['rmse'][\"TabNet\"].keys()), y = [np.median(x) for x in data['rmse'][\"TabNet\"].values()], linestyle='-', ecolor='m', color = 'm', linewidth=1.5, capsize=10)\n",
    "ax.errorbar(x = list(data['mae'][\"TabNet\"].keys()), y = [np.median(x) for x in data['mae'][\"TabNet\"].values()], linestyle='--', ecolor='m', color = 'm', linewidth=1.5, capsize=10)\n",
    "ax.errorbar(x = list(data['cml'][\"TabNet\"].keys()), y = [np.median(x) for x in data['cml'][\"TabNet\"].values()], linestyle='-.', ecolor='m', color = 'm', linewidth=1.5, capsize=10)\n",
    "ax.errorbar(x = list(data['kl'][\"TabNet\"].keys()), y = [np.median(x) for x in data['kl'][\"TabNet\"].values()], linestyle=':', ecolor='m', color = 'm', linewidth=1.5, capsize=10)\n",
    "ax.errorbar(x = list(data['cl'][\"TabNet\"].keys()), y = [np.median(x) for x in data['cl'][\"TabNet\"].values()], linestyle='-', ecolor='c', color = 'red', linewidth=2, capsize=10)\n",
    "\n",
    "plt.title(\"median % of correctly predicted outliers\")\n",
    "plt.legend(['Mean_substitution', 'Regression', 'TabNet_RMSE', 'TabNet_MAE', 'TabNet_CML', 'TabNet_DL', 'TabNet_CL'],fontsize=14, loc=(0.05, 0.5))\n",
    "\n",
    "plt.tight_layout() \n",
    "\n",
    "if save_output:\n",
    "    plt.savefig(os.path.join(plots_path, \"5_outliers.png\"), **config[\"plots\"])\n",
    "    \n",
    "plt.show()"
   ]
  },
  {
   "cell_type": "markdown",
   "id": "ce28e640",
   "metadata": {},
   "source": [
    "### 5.2. Cluster Performance\n",
    "#### 5.2.1. ARI Score"
   ]
  },
  {
   "cell_type": "code",
   "execution_count": 36,
   "id": "88e1316e",
   "metadata": {},
   "outputs": [],
   "source": [
    "from sklearn.metrics.cluster import adjusted_rand_score\n",
    "\n",
    "ARI_score = {}\n",
    "for loss in losses:\n",
    "    X_reconstr = eval(f\"X_reconstr_{loss}\")\n",
    "    ARI_score[loss] = {}\n",
    "    ARI_score[loss][\"orig_data\"] = adjusted_rand_score(labels_orig, labels_true)\n",
    "    ARI_score[loss][\"Mean_substitution\"] = {}\n",
    "    ARI_score[loss][\"Regression\"] = {}\n",
    "    ARI_score[loss][\"TabNet\"] = {}\n",
    "    \n",
    "\n",
    "    for i, experiment_value in enumerate(X_mv_keys):\n",
    "        ARI_score[loss][\"Mean_substitution\"][str(experiment_value)] = {}\n",
    "        ARI_score[loss][\"Regression\"][str(experiment_value)] = {}\n",
    "\n",
    "        for run in range(config[\"general\"][\"runs\"]):\n",
    "            ARI_score[loss][\"Mean_substitution\"][str(experiment_value)][f\"run_{run}\"] = adjusted_rand_score(labels_reconstr_mean_sub[i][run], labels_true)\n",
    "            ARI_score[loss][\"Regression\"][str(experiment_value)][f\"run_{run}\"] = adjusted_rand_score(labels_reconstr_regression[i][run], labels_true)\n",
    "\n",
    "\n",
    "    for i, experiment_value in enumerate(experiment_variable_values):\n",
    "        ARI_score[loss][\"TabNet\"][str(experiment_value)] = {}\n",
    "\n",
    "        for run in range(config[\"general\"][\"runs\"]):    \n",
    "            ari = adjusted_rand_score(labels_reconstr_tabnet[loss][i][run], labels_true)\n",
    "            ARI_score[loss][\"TabNet\"][str(experiment_value)][f\"run_{run}\"] = ari"
   ]
  },
  {
   "cell_type": "code",
   "execution_count": 41,
   "id": "c89d82b4",
   "metadata": {
    "scrolled": true
   },
   "outputs": [
    {
     "data": {
      "image/png": "[encoded data removed]",
      "text/plain": [
       "<Figure size 576x576 with 1 Axes>"
      ]
     },
     "metadata": {
      "needs_background": "light"
     },
     "output_type": "display_data"
    }
   ],
   "source": [
    "# plot\n",
    "ari = ARI_score[loss][\"TabNet\"].copy()\n",
    "\n",
    "data = {}\n",
    "for loss in losses:\n",
    "    data[loss] = {}\n",
    "    data[loss][\"Mean_substitution\"] = {k: list(v.values()) for k,v in ARI_score[loss][\"Mean_substitution\"].items()}\n",
    "    data[loss][\"Regression\"] = {k: list(v.values()) for k,v in ARI_score[loss][\"Regression\"].items()}\n",
    "    data[loss][\"TabNet\"] = {k: list(v.values()) for k,v in ARI_score[loss][\"TabNet\"].items()}\n",
    "\n",
    "fig, ax = plt.subplots(figsize = (8,8))\n",
    "\n",
    "plt.axhline(y=ARI_score[loss]['orig_data'], color='r', linestyle='--')\n",
    "\n",
    "\n",
    "if variable_hyperparams:\n",
    "    plt.axhline(y=[np.median(x) for x in data[loss][\"Mean_substitution\"].values()], color='g', linestyle='-', linewidth=2.5)\n",
    "    plt.axhline(y=[np.median(x) for x in data[loss][\"Regression\"].values()], color='b', linestyle='--', linewidth=2.5)\n",
    "else:\n",
    "    ax.errorbar(x = list(data[loss][\"Mean_substitution\"].keys()), y = [np.median(x) for x in data[loss][\"Mean_substitution\"].values()], linestyle='-', color = 'g', linewidth=2.5, fmt='o', capsize=10)\n",
    "    ax.errorbar(x = list(data[loss][\"Regression\"].keys()), y = [np.median(x) for x in data[loss][\"Regression\"].values()],linestyle='--', color = 'b', linewidth=2.5, fmt='o', capsize=10)\n",
    "\n",
    "ax.errorbar(x = list(data['rmse'][\"TabNet\"].keys()), y = [np.median(x) for x in data['rmse'][\"TabNet\"].values()], linestyle='-', ecolor='m', color = 'm', linewidth=1.5, capsize=10)\n",
    "ax.errorbar(x = list(data['mae'][\"TabNet\"].keys()), y = [np.median(x) for x in data['mae'][\"TabNet\"].values()], linestyle='--', ecolor='m', color = 'm', linewidth=1.5, capsize=10)\n",
    "ax.errorbar(x = list(data['cml'][\"TabNet\"].keys()), y = [np.median(x) for x in data['cml'][\"TabNet\"].values()], linestyle='-.', ecolor='m', color = 'm', linewidth=1.5, capsize=10)\n",
    "ax.errorbar(x = list(data['kl'][\"TabNet\"].keys()), y = [np.median(x) for x in data['kl'][\"TabNet\"].values()], linestyle=':', ecolor='m', color = 'm', linewidth=1.5, capsize=10)\n",
    "ax.errorbar(x = list(data['cl'][\"TabNet\"].keys()), y = [np.median(x) for x in data['cl'][\"TabNet\"].values()], linestyle='-', ecolor='c', color = 'red', linewidth=2, capsize=10)\n",
    "\n",
    "\n",
    "plt.xlabel(config[\"general\"][\"experiment_variable\"])\n",
    "plt.ylabel(\"ARI Score\")\n",
    "plt.title(f\"ARI Score\")\n",
    "plt.legend(['Original Clustering', 'Mean_substitution', 'Regression', 'TabNet_RMSE', 'TabNet_MAE', 'TabNet_CML', 'TabNet_DL', 'TabNet_CL'],fontsize=14, loc=(0.05, 0.05))\n",
    "\n",
    "if save_output:\n",
    "    plt.savefig(os.path.join(plots_path, \"5_ARI-score.png\"), **config[\"plots\"])\n",
    "\n",
    "plt.show()"
   ]
  },
  {
   "cell_type": "markdown",
   "id": "1b50306f",
   "metadata": {},
   "source": [
    "### RQ 3: Decision Tree\n",
    "Train decision tree on predicted data (missing values) only. This will reflect the predictions of the model."
   ]
  },
  {
   "cell_type": "code",
   "execution_count": null,
   "id": "ff4f5c97",
   "metadata": {},
   "outputs": [],
   "source": [
    "from sklearn import tree\n",
    "\n",
    "X_dt = X_reconstr[\"TabNet\"][str(best_experiment_value)][best_run][X_mv[best_experiment_value][best_run][experiment_feature].isna()]\n",
    "y_dt = X_dt[experiment_feature]\n",
    "X_dt = X_dt.drop(experiment_feature, axis=1)\n",
    "\n",
    "tree_Regressor = tree.DecisionTreeRegressor()\n",
    "dt = tree_Regressor.fit(X_dt, y_dt)"
   ]
  },
  {
   "cell_type": "code",
   "execution_count": null,
   "id": "77bb4274",
   "metadata": {},
   "outputs": [],
   "source": [
    "plt.figure(figsize=(30,20))\n",
    "dt_plot = tree.plot_tree(dt, fontsize=10)"
   ]
  },
  {
   "cell_type": "markdown",
   "id": "9596e29e",
   "metadata": {},
   "source": [
    "### Save Output"
   ]
  },
  {
   "cell_type": "code",
   "execution_count": null,
   "id": "17986663",
   "metadata": {},
   "outputs": [],
   "source": [
    "if save_output:\n",
    "    # save output file\n",
    "    with open(output_path, \"w\") as f:\n",
    "                toml.dump(output, f)\n",
    "\n",
    "    # save notebook\n",
    "    shutil.copy2(nb_name, experiment_path)\n",
    "    \n",
    "if save_output or save_models:\n",
    "    config[experiment_dict_key][config[\"general\"][\"experiment_variable\"]] = experiment_variable_values\n",
    "    with open(config_path, \"w\") as f:\n",
    "        toml.dump(config, f)"
   ]
  },
  {
   "cell_type": "markdown",
   "id": "b2d60066",
   "metadata": {},
   "source": [
    "## 6. Old Code"
   ]
  },
  {
   "cell_type": "markdown",
   "id": "eeb9eac1",
   "metadata": {},
   "source": [
    "## Distribution of KL Divergence\n",
    "non-symmetric, here: punishes outliers heavily"
   ]
  },
  {
   "cell_type": "markdown",
   "id": "4065c6c9",
   "metadata": {},
   "source": [
    "d_orig = X[experiment_feature]\n",
    "d_tab = X_reconstr[\"TabNet\"]['0.25'][2][experiment_feature]\n",
    "d_heu = X_reconstr[\"Heuristic\"][0.2][2][experiment_feature]\n",
    "min_val = min(min(d_orig), min(d_tab))\n",
    "max_val = max(max(d_orig), max(d_tab))\n",
    "\n",
    "distr_tab = d_tab.plot.kde(ind=list(np.linspace(min_val,max_val,100)), color=\"m\", label=\"TabNet\",legend=True).get_lines()[0].get_ydata() \n",
    "distr_tab /= sum(distr_tab)\n",
    "distr_true = d_orig.plot.kde(ind=list(np.linspace(min_val,max_val,100)), color=\"gray\", label=\"Original Data\",legend=True).get_lines()[1].get_ydata()\n",
    "distr_true /= sum(distr_true)\n",
    "distr_heu = d_heu.plot.kde(ind=list(np.linspace(min_val,max_val,100)), color=\"g\", title=\"Probability density functions\", label=\"Heuristic\",legend=True).get_lines()[2].get_ydata()\n",
    "distr_heu /= sum(distr_heu)\n",
    "plt.text(5.2, .55, f\"KL Divergence\\nD (TabNet || Original Data)\\n{round(kl_divergence(d_tab, d_orig),4)}\\nD (Heuristic || Original Data)\\n{round(kl_divergence(d_heu, d_orig),4)}\", fontsize = 12, horizontalalignment=\"right\")\n",
    "if save_output:\n",
    "    plt.savefig(os.path.join(plots_path, \"problem_KL-divergence.png\"), **config[\"plots\"], bbox_inches=\"tight\")"
   ]
  },
  {
   "cell_type": "code",
   "execution_count": null,
   "id": "5e238903",
   "metadata": {},
   "outputs": [],
   "source": [
    "#best_model = all_models[best_experiment_value][best_run]\n",
    "best_model = all_models[best_experiment_value][best_run]\n",
    "explain_matrix, masks = best_model.explain(test_data)"
   ]
  },
  {
   "cell_type": "code",
   "execution_count": null,
   "id": "7f9620f2",
   "metadata": {},
   "outputs": [],
   "source": [
    "from matplotlib import pyplot as plt\n",
    "%matplotlib inline\n",
    "fig, axs = plt.subplots(1, 4, figsize=(10,20))\n",
    "\n",
    "axs[0].imshow(explain_matrix[:])\n",
    "axs[0].set_title(f\"mask_agg\",fontsize=16)\n",
    "\n",
    "for i in range(3):\n",
    "    axs[i+1].imshow(masks[i][:])\n",
    "    axs[i+1].set_title(f\"mask {i}\",fontsize=16)"
   ]
  },
  {
   "cell_type": "code",
   "execution_count": null,
   "id": "3c40f071",
   "metadata": {},
   "outputs": [],
   "source": [
    "best_model.feature_importances_"
   ]
  },
  {
   "cell_type": "code",
   "execution_count": null,
   "id": "3a51c560",
   "metadata": {},
   "outputs": [],
   "source": []
  }
 ],
 "metadata": {
  "kernelspec": {
   "display_name": "venv",
   "language": "python",
   "name": "venv"
  },
  "language_info": {
   "codemirror_mode": {
    "name": "ipython",
    "version": 3
   },
   "file_extension": ".py",
   "mimetype": "text/x-python",
   "name": "python",
   "nbconvert_exporter": "python",
   "pygments_lexer": "ipython3",
   "version": "3.9.10"
  }
 },
 "nbformat": 4,
 "nbformat_minor": 5
}
